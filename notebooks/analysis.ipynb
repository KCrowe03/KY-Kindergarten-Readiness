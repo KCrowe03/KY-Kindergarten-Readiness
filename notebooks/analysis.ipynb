{
 "cells": [
  {
   "cell_type": "markdown",
   "id": "36be300d",
   "metadata": {},
   "source": [
    "Looking at Kentucky county-level data to explore connections between child poverty, education outcomes, and early education access."
   ]
  },
  {
   "cell_type": "code",
   "execution_count": 29,
   "id": "e4fc9b14",
   "metadata": {},
   "outputs": [
    {
     "name": "stdout",
     "output_type": "stream",
     "text": [
      "(121, 5)\n"
     ]
    },
    {
     "data": {
      "text/html": [
       "<div>\n",
       "<style scoped>\n",
       "    .dataframe tbody tr th:only-of-type {\n",
       "        vertical-align: middle;\n",
       "    }\n",
       "\n",
       "    .dataframe tbody tr th {\n",
       "        vertical-align: top;\n",
       "    }\n",
       "\n",
       "    .dataframe thead th {\n",
       "        text-align: right;\n",
       "    }\n",
       "</style>\n",
       "<table border=\"1\" class=\"dataframe\">\n",
       "  <thead>\n",
       "    <tr style=\"text-align: right;\">\n",
       "      <th></th>\n",
       "      <th>fips</th>\n",
       "      <th>state</th>\n",
       "      <th>county</th>\n",
       "      <th>child_poverty_pct</th>\n",
       "      <th>hs_completion_pct</th>\n",
       "    </tr>\n",
       "  </thead>\n",
       "  <tbody>\n",
       "    <tr>\n",
       "      <th>1022</th>\n",
       "      <td>21000</td>\n",
       "      <td>KY</td>\n",
       "      <td>Kentucky</td>\n",
       "      <td>0.202</td>\n",
       "      <td>0.8853320347</td>\n",
       "    </tr>\n",
       "    <tr>\n",
       "      <th>1023</th>\n",
       "      <td>21001</td>\n",
       "      <td>KY</td>\n",
       "      <td>Adair County</td>\n",
       "      <td>0.278</td>\n",
       "      <td>0.8578791192</td>\n",
       "    </tr>\n",
       "    <tr>\n",
       "      <th>1024</th>\n",
       "      <td>21003</td>\n",
       "      <td>KY</td>\n",
       "      <td>Allen County</td>\n",
       "      <td>0.215</td>\n",
       "      <td>0.8495460441</td>\n",
       "    </tr>\n",
       "    <tr>\n",
       "      <th>1025</th>\n",
       "      <td>21005</td>\n",
       "      <td>KY</td>\n",
       "      <td>Anderson County</td>\n",
       "      <td>0.122</td>\n",
       "      <td>0.9169763817</td>\n",
       "    </tr>\n",
       "    <tr>\n",
       "      <th>1026</th>\n",
       "      <td>21007</td>\n",
       "      <td>KY</td>\n",
       "      <td>Ballard County</td>\n",
       "      <td>0.224</td>\n",
       "      <td>0.9366835994</td>\n",
       "    </tr>\n",
       "  </tbody>\n",
       "</table>\n",
       "</div>"
      ],
      "text/plain": [
       "       fips state           county child_poverty_pct hs_completion_pct\n",
       "1022  21000    KY         Kentucky             0.202      0.8853320347\n",
       "1023  21001    KY     Adair County             0.278      0.8578791192\n",
       "1024  21003    KY     Allen County             0.215      0.8495460441\n",
       "1025  21005    KY  Anderson County             0.122      0.9169763817\n",
       "1026  21007    KY   Ballard County             0.224      0.9366835994"
      ]
     },
     "execution_count": 29,
     "metadata": {},
     "output_type": "execute_result"
    }
   ],
   "source": [
    "# import necessary libraries\n",
    "import pandas as pd\n",
    "import numpy as np\n",
    "import matplotlib.pyplot as plt\n",
    "import seaborn as sns\n",
    "\n",
    "# load county health rankings (national). \n",
    "df = pd.read_csv(\"../data/analytic_data2025_v2.csv\", low_memory=False)\n",
    "\n",
    "# filter to Kentucky\n",
    "ky_df = df[df[\"State Abbreviation\"] == \"KY\"]\n",
    "\n",
    "# keep only the columns needed\n",
    "columns_to_keep = [\n",
    "    \"5-digit FIPS Code\",\n",
    "    \"State Abbreviation\",\n",
    "    \"Name\",                          \n",
    "    \"Children in Poverty raw value\", \n",
    "    \"High School Completion raw value\"\n",
    "]\n",
    "ky_df = ky_df[columns_to_keep]\n",
    "\n",
    "# rename to simple names for later joins and charts\n",
    "ky_df.columns = [\n",
    "    \"fips\",\n",
    "    \"state\",\n",
    "    \"county\",\n",
    "    \"child_poverty_pct\",\n",
    "    \"hs_completion_pct\"\n",
    "]\n",
    "\n",
    "# check the data\n",
    "print(ky_df.shape)\n",
    "ky_df.head()\n"
   ]
  },
  {
   "cell_type": "code",
   "execution_count": null,
   "id": "166bac04",
   "metadata": {},
   "outputs": [
    {
     "name": "stdout",
     "output_type": "stream",
     "text": [
      "(1089, 5)\n"
     ]
    },
    {
     "data": {
      "text/plain": [
       "Index(['LocationType', 'Location', 'TimeFrame', 'DataFormat', 'Data'], dtype='object')"
      ]
     },
     "execution_count": 30,
     "metadata": {},
     "output_type": "execute_result"
    }
   ],
   "source": [
    "# load preschool enrollment (KY counties, 2018–2022) and preview\n",
    "preschool_df = pd.read_csv(\"../data/Children ages 3 to 4 enrolled in school.csv\")\n",
    "\n",
    "# keep only the columns needed\n",
    "print(preschool_df.shape)\n",
    "preschool_df.head()\n",
    "preschool_df.columns\n"
   ]
  },
  {
   "cell_type": "code",
   "execution_count": 14,
   "id": "1b2b6421",
   "metadata": {},
   "outputs": [
    {
     "data": {
      "text/html": [
       "<div>\n",
       "<style scoped>\n",
       "    .dataframe tbody tr th:only-of-type {\n",
       "        vertical-align: middle;\n",
       "    }\n",
       "\n",
       "    .dataframe tbody tr th {\n",
       "        vertical-align: top;\n",
       "    }\n",
       "\n",
       "    .dataframe thead th {\n",
       "        text-align: right;\n",
       "    }\n",
       "</style>\n",
       "<table border=\"1\" class=\"dataframe\">\n",
       "  <thead>\n",
       "    <tr style=\"text-align: right;\">\n",
       "      <th></th>\n",
       "      <th>LocationType</th>\n",
       "      <th>Location</th>\n",
       "      <th>TimeFrame</th>\n",
       "      <th>DataFormat</th>\n",
       "      <th>Data</th>\n",
       "    </tr>\n",
       "  </thead>\n",
       "  <tbody>\n",
       "    <tr>\n",
       "      <th>0</th>\n",
       "      <td>State</td>\n",
       "      <td>Kentucky</td>\n",
       "      <td>2013</td>\n",
       "      <td>Rate</td>\n",
       "      <td>86.1</td>\n",
       "    </tr>\n",
       "    <tr>\n",
       "      <th>1</th>\n",
       "      <td>State</td>\n",
       "      <td>Kentucky</td>\n",
       "      <td>2014</td>\n",
       "      <td>Rate</td>\n",
       "      <td>87.5</td>\n",
       "    </tr>\n",
       "    <tr>\n",
       "      <th>2</th>\n",
       "      <td>State</td>\n",
       "      <td>Kentucky</td>\n",
       "      <td>2015</td>\n",
       "      <td>Rate</td>\n",
       "      <td>88</td>\n",
       "    </tr>\n",
       "    <tr>\n",
       "      <th>3</th>\n",
       "      <td>State</td>\n",
       "      <td>Kentucky</td>\n",
       "      <td>2016</td>\n",
       "      <td>Rate</td>\n",
       "      <td>88.6</td>\n",
       "    </tr>\n",
       "    <tr>\n",
       "      <th>4</th>\n",
       "      <td>State</td>\n",
       "      <td>Kentucky</td>\n",
       "      <td>2017</td>\n",
       "      <td>Rate</td>\n",
       "      <td>89.8</td>\n",
       "    </tr>\n",
       "  </tbody>\n",
       "</table>\n",
       "</div>"
      ],
      "text/plain": [
       "  LocationType  Location  TimeFrame DataFormat  Data\n",
       "0        State  Kentucky       2013       Rate  86.1\n",
       "1        State  Kentucky       2014       Rate  87.5\n",
       "2        State  Kentucky       2015       Rate    88\n",
       "3        State  Kentucky       2016       Rate  88.6\n",
       "4        State  Kentucky       2017       Rate  89.8"
      ]
     },
     "execution_count": 14,
     "metadata": {},
     "output_type": "execute_result"
    }
   ],
   "source": [
    "grad_df = pd.read_csv(\"../data/Cohort graduation rate.csv\")\n",
    "\n",
    "grad_df.head()\n"
   ]
  }
 ],
 "metadata": {
  "kernelspec": {
   "display_name": "venv",
   "language": "python",
   "name": "python3"
  },
  "language_info": {
   "codemirror_mode": {
    "name": "ipython",
    "version": 3
   },
   "file_extension": ".py",
   "mimetype": "text/x-python",
   "name": "python",
   "nbconvert_exporter": "python",
   "pygments_lexer": "ipython3",
   "version": "3.12.5"
  }
 },
 "nbformat": 4,
 "nbformat_minor": 5
}
