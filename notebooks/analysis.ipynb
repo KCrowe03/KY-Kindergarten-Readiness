{
 "cells": [
  {
   "cell_type": "markdown",
   "id": "89a75a61",
   "metadata": {},
   "source": [
    "## KY Kindergarten Readiness Analysis\n",
    "Education and Poverty Trends in KY Counties"
   ]
  },
  {
   "cell_type": "code",
   "execution_count": 346,
   "id": "e4fc9b14",
   "metadata": {},
   "outputs": [],
   "source": [
    "# import necessary libraries\n",
    "import pandas as pd\n",
    "import numpy as np\n",
    "import matplotlib.pyplot as plt\n",
    "import seaborn as sns\n",
    "import os \n",
    "import sqlite3"
   ]
  },
  {
   "cell_type": "markdown",
   "id": "caa05b93",
   "metadata": {},
   "source": [
    "Load the County Health Rankings dataset from the national CSV file.  "
   ]
  },
  {
   "cell_type": "code",
   "execution_count": 347,
   "id": "8848da83",
   "metadata": {},
   "outputs": [],
   "source": [
    "# load county health rankings (national)\n",
    "df = pd.read_csv(\"../data/analytic_data2025_v2.csv\", low_memory=False)"
   ]
  },
  {
   "cell_type": "markdown",
   "id": "cdcccf6e",
   "metadata": {},
   "source": [
    "Keep only rows where the state abbreviation is KY."
   ]
  },
  {
   "cell_type": "code",
   "execution_count": 348,
   "id": "d9266e2b",
   "metadata": {},
   "outputs": [],
   "source": [
    "# Filter to Kentucky\n",
    "df_chr_ky = df[df[\"State Abbreviation\"] == \"KY\"]"
   ]
  },
  {
   "cell_type": "markdown",
   "id": "d2d5224e",
   "metadata": {},
   "source": [
    "Keep only state, county, child poverty percentage, and high school completion percentage."
   ]
  },
  {
   "cell_type": "code",
   "execution_count": 349,
   "id": "cb8412fb",
   "metadata": {},
   "outputs": [
    {
     "data": {
      "text/html": [
       "<div>\n",
       "<style scoped>\n",
       "    .dataframe tbody tr th:only-of-type {\n",
       "        vertical-align: middle;\n",
       "    }\n",
       "\n",
       "    .dataframe tbody tr th {\n",
       "        vertical-align: top;\n",
       "    }\n",
       "\n",
       "    .dataframe thead th {\n",
       "        text-align: right;\n",
       "    }\n",
       "</style>\n",
       "<table border=\"1\" class=\"dataframe\">\n",
       "  <thead>\n",
       "    <tr style=\"text-align: right;\">\n",
       "      <th></th>\n",
       "      <th>State Abbreviation</th>\n",
       "      <th>Name</th>\n",
       "      <th>Children in Poverty raw value</th>\n",
       "      <th>High School Completion raw value</th>\n",
       "    </tr>\n",
       "  </thead>\n",
       "  <tbody>\n",
       "    <tr>\n",
       "      <th>1022</th>\n",
       "      <td>KY</td>\n",
       "      <td>Kentucky</td>\n",
       "      <td>0.202</td>\n",
       "      <td>0.8853320347</td>\n",
       "    </tr>\n",
       "    <tr>\n",
       "      <th>1023</th>\n",
       "      <td>KY</td>\n",
       "      <td>Adair County</td>\n",
       "      <td>0.278</td>\n",
       "      <td>0.8578791192</td>\n",
       "    </tr>\n",
       "    <tr>\n",
       "      <th>1024</th>\n",
       "      <td>KY</td>\n",
       "      <td>Allen County</td>\n",
       "      <td>0.215</td>\n",
       "      <td>0.8495460441</td>\n",
       "    </tr>\n",
       "  </tbody>\n",
       "</table>\n",
       "</div>"
      ],
      "text/plain": [
       "     State Abbreviation          Name Children in Poverty raw value  \\\n",
       "1022                 KY      Kentucky                         0.202   \n",
       "1023                 KY  Adair County                         0.278   \n",
       "1024                 KY  Allen County                         0.215   \n",
       "\n",
       "     High School Completion raw value  \n",
       "1022                     0.8853320347  \n",
       "1023                     0.8578791192  \n",
       "1024                     0.8495460441  "
      ]
     },
     "execution_count": 349,
     "metadata": {},
     "output_type": "execute_result"
    }
   ],
   "source": [
    "# keep only the columns needed\n",
    "columns_to_keep = [\n",
    "    \"State Abbreviation\",\n",
    "    \"Name\",                           # county name\n",
    "    \"Children in Poverty raw value\",\n",
    "    \"High School Completion raw value\"\n",
    "]\n",
    "\n",
    "df_chr_ky = df_chr_ky[columns_to_keep]\n",
    "df_chr_ky.head(3)"
   ]
  },
  {
   "cell_type": "markdown",
   "id": "8161a525",
   "metadata": {},
   "source": [
    "Rename all columns to lowercase, descriptive names to match other datasets."
   ]
  },
  {
   "cell_type": "code",
   "execution_count": 350,
   "id": "5cafbe7b",
   "metadata": {},
   "outputs": [
    {
     "data": {
      "text/html": [
       "<div>\n",
       "<style scoped>\n",
       "    .dataframe tbody tr th:only-of-type {\n",
       "        vertical-align: middle;\n",
       "    }\n",
       "\n",
       "    .dataframe tbody tr th {\n",
       "        vertical-align: top;\n",
       "    }\n",
       "\n",
       "    .dataframe thead th {\n",
       "        text-align: right;\n",
       "    }\n",
       "</style>\n",
       "<table border=\"1\" class=\"dataframe\">\n",
       "  <thead>\n",
       "    <tr style=\"text-align: right;\">\n",
       "      <th></th>\n",
       "      <th>state</th>\n",
       "      <th>county</th>\n",
       "      <th>child_poverty_pct</th>\n",
       "      <th>hs_completion_pct</th>\n",
       "    </tr>\n",
       "  </thead>\n",
       "  <tbody>\n",
       "    <tr>\n",
       "      <th>1022</th>\n",
       "      <td>KY</td>\n",
       "      <td>Kentucky</td>\n",
       "      <td>0.202</td>\n",
       "      <td>0.8853320347</td>\n",
       "    </tr>\n",
       "    <tr>\n",
       "      <th>1023</th>\n",
       "      <td>KY</td>\n",
       "      <td>Adair County</td>\n",
       "      <td>0.278</td>\n",
       "      <td>0.8578791192</td>\n",
       "    </tr>\n",
       "    <tr>\n",
       "      <th>1024</th>\n",
       "      <td>KY</td>\n",
       "      <td>Allen County</td>\n",
       "      <td>0.215</td>\n",
       "      <td>0.8495460441</td>\n",
       "    </tr>\n",
       "  </tbody>\n",
       "</table>\n",
       "</div>"
      ],
      "text/plain": [
       "     state        county child_poverty_pct hs_completion_pct\n",
       "1022    KY      Kentucky             0.202      0.8853320347\n",
       "1023    KY  Adair County             0.278      0.8578791192\n",
       "1024    KY  Allen County             0.215      0.8495460441"
      ]
     },
     "execution_count": 350,
     "metadata": {},
     "output_type": "execute_result"
    }
   ],
   "source": [
    "# rename to match the format of other datasets\n",
    "df_chr_ky.columns = [\n",
    "    \"state\",\n",
    "    \"county\",\n",
    "    \"child_poverty_pct\",\n",
    "    \"hs_completion_pct\"\n",
    "]\n",
    "\n",
    "df_chr_ky.head(3)"
   ]
  },
  {
   "cell_type": "markdown",
   "id": "ab4ba530",
   "metadata": {},
   "source": [
    "Remove \" County\" from county names and drop the statewide summary row."
   ]
  },
  {
   "cell_type": "code",
   "execution_count": 351,
   "id": "ced64018",
   "metadata": {},
   "outputs": [
    {
     "data": {
      "text/html": [
       "<div>\n",
       "<style scoped>\n",
       "    .dataframe tbody tr th:only-of-type {\n",
       "        vertical-align: middle;\n",
       "    }\n",
       "\n",
       "    .dataframe tbody tr th {\n",
       "        vertical-align: top;\n",
       "    }\n",
       "\n",
       "    .dataframe thead th {\n",
       "        text-align: right;\n",
       "    }\n",
       "</style>\n",
       "<table border=\"1\" class=\"dataframe\">\n",
       "  <thead>\n",
       "    <tr style=\"text-align: right;\">\n",
       "      <th></th>\n",
       "      <th>state</th>\n",
       "      <th>county</th>\n",
       "      <th>child_poverty_pct</th>\n",
       "      <th>hs_completion_pct</th>\n",
       "    </tr>\n",
       "  </thead>\n",
       "  <tbody>\n",
       "    <tr>\n",
       "      <th>1023</th>\n",
       "      <td>KY</td>\n",
       "      <td>Adair</td>\n",
       "      <td>0.278</td>\n",
       "      <td>0.8578791192</td>\n",
       "    </tr>\n",
       "    <tr>\n",
       "      <th>1024</th>\n",
       "      <td>KY</td>\n",
       "      <td>Allen</td>\n",
       "      <td>0.215</td>\n",
       "      <td>0.8495460441</td>\n",
       "    </tr>\n",
       "    <tr>\n",
       "      <th>1025</th>\n",
       "      <td>KY</td>\n",
       "      <td>Anderson</td>\n",
       "      <td>0.122</td>\n",
       "      <td>0.9169763817</td>\n",
       "    </tr>\n",
       "  </tbody>\n",
       "</table>\n",
       "</div>"
      ],
      "text/plain": [
       "     state    county child_poverty_pct hs_completion_pct\n",
       "1023    KY     Adair             0.278      0.8578791192\n",
       "1024    KY     Allen             0.215      0.8495460441\n",
       "1025    KY  Anderson             0.122      0.9169763817"
      ]
     },
     "execution_count": 351,
     "metadata": {},
     "output_type": "execute_result"
    }
   ],
   "source": [
    "df_chr_ky[\"county\"] = df_chr_ky[\"county\"].str.replace(\" County\", \"\", regex=False)\n",
    "df_chr_ky = df_chr_ky[df_chr_ky[\"county\"] != \"Kentucky\"]\n",
    "df_chr_ky.head(3)"
   ]
  },
  {
   "cell_type": "markdown",
   "id": "9e5fb67b",
   "metadata": {},
   "source": [
    "Ensure percentages are stored as numeric types for calculations."
   ]
  },
  {
   "cell_type": "code",
   "execution_count": 352,
   "id": "cafc753f",
   "metadata": {},
   "outputs": [
    {
     "data": {
      "text/html": [
       "<div>\n",
       "<style scoped>\n",
       "    .dataframe tbody tr th:only-of-type {\n",
       "        vertical-align: middle;\n",
       "    }\n",
       "\n",
       "    .dataframe tbody tr th {\n",
       "        vertical-align: top;\n",
       "    }\n",
       "\n",
       "    .dataframe thead th {\n",
       "        text-align: right;\n",
       "    }\n",
       "</style>\n",
       "<table border=\"1\" class=\"dataframe\">\n",
       "  <thead>\n",
       "    <tr style=\"text-align: right;\">\n",
       "      <th></th>\n",
       "      <th>count</th>\n",
       "      <th>unique</th>\n",
       "      <th>top</th>\n",
       "      <th>freq</th>\n",
       "      <th>mean</th>\n",
       "      <th>std</th>\n",
       "      <th>min</th>\n",
       "      <th>25%</th>\n",
       "      <th>50%</th>\n",
       "      <th>75%</th>\n",
       "      <th>max</th>\n",
       "    </tr>\n",
       "  </thead>\n",
       "  <tbody>\n",
       "    <tr>\n",
       "      <th>state</th>\n",
       "      <td>120</td>\n",
       "      <td>1</td>\n",
       "      <td>KY</td>\n",
       "      <td>120</td>\n",
       "      <td>NaN</td>\n",
       "      <td>NaN</td>\n",
       "      <td>NaN</td>\n",
       "      <td>NaN</td>\n",
       "      <td>NaN</td>\n",
       "      <td>NaN</td>\n",
       "      <td>NaN</td>\n",
       "    </tr>\n",
       "    <tr>\n",
       "      <th>county</th>\n",
       "      <td>120</td>\n",
       "      <td>120</td>\n",
       "      <td>Adair</td>\n",
       "      <td>1</td>\n",
       "      <td>NaN</td>\n",
       "      <td>NaN</td>\n",
       "      <td>NaN</td>\n",
       "      <td>NaN</td>\n",
       "      <td>NaN</td>\n",
       "      <td>NaN</td>\n",
       "      <td>NaN</td>\n",
       "    </tr>\n",
       "    <tr>\n",
       "      <th>child_poverty_pct</th>\n",
       "      <td>120.0</td>\n",
       "      <td>NaN</td>\n",
       "      <td>NaN</td>\n",
       "      <td>NaN</td>\n",
       "      <td>0.235808</td>\n",
       "      <td>0.085694</td>\n",
       "      <td>0.05</td>\n",
       "      <td>0.17825</td>\n",
       "      <td>0.2225</td>\n",
       "      <td>0.27925</td>\n",
       "      <td>0.536</td>\n",
       "    </tr>\n",
       "    <tr>\n",
       "      <th>hs_completion_pct</th>\n",
       "      <td>120.0</td>\n",
       "      <td>NaN</td>\n",
       "      <td>NaN</td>\n",
       "      <td>NaN</td>\n",
       "      <td>0.851548</td>\n",
       "      <td>0.05681</td>\n",
       "      <td>0.659858</td>\n",
       "      <td>0.813814</td>\n",
       "      <td>0.854216</td>\n",
       "      <td>0.896419</td>\n",
       "      <td>0.943003</td>\n",
       "    </tr>\n",
       "  </tbody>\n",
       "</table>\n",
       "</div>"
      ],
      "text/plain": [
       "                   count unique    top freq      mean       std       min  \\\n",
       "state                120      1     KY  120       NaN       NaN       NaN   \n",
       "county               120    120  Adair    1       NaN       NaN       NaN   \n",
       "child_poverty_pct  120.0    NaN    NaN  NaN  0.235808  0.085694      0.05   \n",
       "hs_completion_pct  120.0    NaN    NaN  NaN  0.851548   0.05681  0.659858   \n",
       "\n",
       "                        25%       50%       75%       max  \n",
       "state                   NaN       NaN       NaN       NaN  \n",
       "county                  NaN       NaN       NaN       NaN  \n",
       "child_poverty_pct   0.17825    0.2225   0.27925     0.536  \n",
       "hs_completion_pct  0.813814  0.854216  0.896419  0.943003  "
      ]
     },
     "execution_count": 352,
     "metadata": {},
     "output_type": "execute_result"
    }
   ],
   "source": [
    "df_chr_ky[\"child_poverty_pct\"] = pd.to_numeric(df_chr_ky[\"child_poverty_pct\"], errors=\"coerce\")\n",
    "df_chr_ky[\"hs_completion_pct\"] = pd.to_numeric(df_chr_ky[\"hs_completion_pct\"], errors=\"coerce\")\n",
    "df_chr_ky.describe(include=\"all\").T.head(6)\n",
    "\n",
    "df_chr_ky.describe(include=\"all\").T.head(6)"
   ]
  },
  {
   "cell_type": "markdown",
   "id": "25b341c8",
   "metadata": {},
   "source": [
    "Check for missing values"
   ]
  },
  {
   "cell_type": "code",
   "execution_count": 353,
   "id": "52212299",
   "metadata": {},
   "outputs": [
    {
     "data": {
      "text/plain": [
       "state                0\n",
       "county               0\n",
       "child_poverty_pct    0\n",
       "hs_completion_pct    0\n",
       "dtype: int64"
      ]
     },
     "execution_count": 353,
     "metadata": {},
     "output_type": "execute_result"
    }
   ],
   "source": [
    "df_chr_ky.isnull().sum()"
   ]
  },
  {
   "cell_type": "markdown",
   "id": "688bc37a",
   "metadata": {},
   "source": [
    "Load and clean childcare subsidies dataset  (2nd dataset)\n",
    "Source: Kentucky KIDS COUNT  \n",
    "I wanted to filter to county-level data, keep only relevant columns, clean names, and convert to numeric types."
   ]
  },
  {
   "cell_type": "code",
   "execution_count": 354,
   "id": "eab5e8e5",
   "metadata": {},
   "outputs": [
    {
     "data": {
      "text/plain": [
       "(2662, 5)"
      ]
     },
     "execution_count": 354,
     "metadata": {},
     "output_type": "execute_result"
    }
   ],
   "source": [
    "# Load childcare subsidies dataset\n",
    "subsidies_df = pd.read_csv(\"../data/Children receiving childcare subsidies.csv\")\n",
    "subsidies_df.shape"
   ]
  },
  {
   "cell_type": "markdown",
   "id": "fabc49c6",
   "metadata": {},
   "source": [
    "Clean childcare subsidies data  \n",
    "Steps: filter to county rows, keep only needed columns, rename for clarity, clean county names, and convert subsidies to numeric."
   ]
  },
  {
   "cell_type": "code",
   "execution_count": 355,
   "id": "330cd385",
   "metadata": {},
   "outputs": [],
   "source": [
    "# Load childcare subsidies data (county-level only)\n",
    "subsidies_df = pd.read_csv(\"../data/Children receiving childcare subsidies.csv\")\n",
    "subsidies_df = subsidies_df[subsidies_df[\"LocationType\"] == \"County\"]\n",
    "\n",
    "# Keep needed columns and rename\n",
    "subsidies_df = subsidies_df[[\"Location\", \"TimeFrame\", \"Data\"]]\n",
    "subsidies_df.columns = [\"county\", \"year\", \"childcare_subsidies\"]\n",
    "\n",
    "# Clean county names and ensure numeric type\n",
    "subsidies_df[\"county\"] = subsidies_df[\"county\"].str.replace(\" County\", \"\", regex=False)\n",
    "subsidies_df[\"childcare_subsidies\"] = pd.to_numeric(subsidies_df[\"childcare_subsidies\"], errors=\"coerce\")\n",
    "\n",
    "# Filter to latest year\n",
    "latest_year = subsidies_df[\"year\"].max()\n",
    "subsidies_latest = subsidies_df[subsidies_df[\"year\"] == latest_year].copy()\n"
   ]
  },
  {
   "cell_type": "markdown",
   "id": "85d4f10e",
   "metadata": {},
   "source": [
    "Join the cleaned County Health Rankings dataset (df_chr_ky) with the most recent year of childcare subsidies data (subsidies_latest) using county as the key.  \n",
    "This combines poverty and education indicators with subsidy counts for each county."
   ]
  },
  {
   "cell_type": "code",
   "execution_count": 356,
   "id": "f1b9d281",
   "metadata": {},
   "outputs": [
    {
     "name": "stdout",
     "output_type": "stream",
     "text": [
      "Latest subsidies year: 2022\n",
      "Merged dataset shape: (120, 6)\n"
     ]
    },
    {
     "data": {
      "text/html": [
       "<div>\n",
       "<style scoped>\n",
       "    .dataframe tbody tr th:only-of-type {\n",
       "        vertical-align: middle;\n",
       "    }\n",
       "\n",
       "    .dataframe tbody tr th {\n",
       "        vertical-align: top;\n",
       "    }\n",
       "\n",
       "    .dataframe thead th {\n",
       "        text-align: right;\n",
       "    }\n",
       "</style>\n",
       "<table border=\"1\" class=\"dataframe\">\n",
       "  <thead>\n",
       "    <tr style=\"text-align: right;\">\n",
       "      <th></th>\n",
       "      <th>state</th>\n",
       "      <th>county</th>\n",
       "      <th>child_poverty_pct</th>\n",
       "      <th>hs_completion_pct</th>\n",
       "      <th>year</th>\n",
       "      <th>childcare_subsidies</th>\n",
       "    </tr>\n",
       "  </thead>\n",
       "  <tbody>\n",
       "    <tr>\n",
       "      <th>0</th>\n",
       "      <td>KY</td>\n",
       "      <td>Adair</td>\n",
       "      <td>0.278</td>\n",
       "      <td>0.857879</td>\n",
       "      <td>2022</td>\n",
       "      <td>253.0</td>\n",
       "    </tr>\n",
       "    <tr>\n",
       "      <th>1</th>\n",
       "      <td>KY</td>\n",
       "      <td>Allen</td>\n",
       "      <td>0.215</td>\n",
       "      <td>0.849546</td>\n",
       "      <td>2022</td>\n",
       "      <td>86.0</td>\n",
       "    </tr>\n",
       "    <tr>\n",
       "      <th>2</th>\n",
       "      <td>KY</td>\n",
       "      <td>Anderson</td>\n",
       "      <td>0.122</td>\n",
       "      <td>0.916976</td>\n",
       "      <td>2022</td>\n",
       "      <td>121.0</td>\n",
       "    </tr>\n",
       "    <tr>\n",
       "      <th>3</th>\n",
       "      <td>KY</td>\n",
       "      <td>Ballard</td>\n",
       "      <td>0.224</td>\n",
       "      <td>0.936684</td>\n",
       "      <td>2022</td>\n",
       "      <td>44.0</td>\n",
       "    </tr>\n",
       "    <tr>\n",
       "      <th>4</th>\n",
       "      <td>KY</td>\n",
       "      <td>Barren</td>\n",
       "      <td>0.226</td>\n",
       "      <td>0.865345</td>\n",
       "      <td>2022</td>\n",
       "      <td>327.0</td>\n",
       "    </tr>\n",
       "  </tbody>\n",
       "</table>\n",
       "</div>"
      ],
      "text/plain": [
       "  state    county  child_poverty_pct  hs_completion_pct  year  \\\n",
       "0    KY     Adair              0.278           0.857879  2022   \n",
       "1    KY     Allen              0.215           0.849546  2022   \n",
       "2    KY  Anderson              0.122           0.916976  2022   \n",
       "3    KY   Ballard              0.224           0.936684  2022   \n",
       "4    KY    Barren              0.226           0.865345  2022   \n",
       "\n",
       "   childcare_subsidies  \n",
       "0                253.0  \n",
       "1                 86.0  \n",
       "2                121.0  \n",
       "3                 44.0  \n",
       "4                327.0  "
      ]
     },
     "execution_count": 356,
     "metadata": {},
     "output_type": "execute_result"
    }
   ],
   "source": [
    "# Merge with CHR dataset\n",
    "merged_df = df_chr_ky.merge(subsidies_latest, on=\"county\", how=\"left\")\n",
    "\n",
    "# Preview\n",
    "print(f\"Latest subsidies year: {latest_year}\")\n",
    "print(f\"Merged dataset shape: {merged_df.shape}\")\n",
    "merged_df.head()"
   ]
  },
  {
   "cell_type": "markdown",
   "id": "93cf2da9",
   "metadata": {},
   "source": [
    "Read the Graduation Rate CSV, select only the needed columns, and standardize county names so they match the CHR dataset.  \n",
    "Convert graduation rates to numeric values and filter to the most recent year for analysis."
   ]
  },
  {
   "cell_type": "code",
   "execution_count": 357,
   "id": "4ae7e826",
   "metadata": {},
   "outputs": [
    {
     "name": "stdout",
     "output_type": "stream",
     "text": [
      "Latest graduation year: 2024\n",
      "(177, 3)\n"
     ]
    },
    {
     "data": {
      "text/html": [
       "<div>\n",
       "<style scoped>\n",
       "    .dataframe tbody tr th:only-of-type {\n",
       "        vertical-align: middle;\n",
       "    }\n",
       "\n",
       "    .dataframe tbody tr th {\n",
       "        vertical-align: top;\n",
       "    }\n",
       "\n",
       "    .dataframe thead th {\n",
       "        text-align: right;\n",
       "    }\n",
       "</style>\n",
       "<table border=\"1\" class=\"dataframe\">\n",
       "  <thead>\n",
       "    <tr style=\"text-align: right;\">\n",
       "      <th></th>\n",
       "      <th>county</th>\n",
       "      <th>year</th>\n",
       "      <th>grad_rate</th>\n",
       "    </tr>\n",
       "  </thead>\n",
       "  <tbody>\n",
       "    <tr>\n",
       "      <th>11</th>\n",
       "      <td>Kentucky</td>\n",
       "      <td>2024</td>\n",
       "      <td>92.2</td>\n",
       "    </tr>\n",
       "    <tr>\n",
       "      <th>23</th>\n",
       "      <td>Adair</td>\n",
       "      <td>2024</td>\n",
       "      <td>94.9</td>\n",
       "    </tr>\n",
       "    <tr>\n",
       "      <th>35</th>\n",
       "      <td>Allen</td>\n",
       "      <td>2024</td>\n",
       "      <td>94.0</td>\n",
       "    </tr>\n",
       "    <tr>\n",
       "      <th>47</th>\n",
       "      <td>Anchorage Independent</td>\n",
       "      <td>2024</td>\n",
       "      <td>NaN</td>\n",
       "    </tr>\n",
       "    <tr>\n",
       "      <th>59</th>\n",
       "      <td>Anderson</td>\n",
       "      <td>2024</td>\n",
       "      <td>93.0</td>\n",
       "    </tr>\n",
       "  </tbody>\n",
       "</table>\n",
       "</div>"
      ],
      "text/plain": [
       "                   county  year  grad_rate\n",
       "11               Kentucky  2024       92.2\n",
       "23                  Adair  2024       94.9\n",
       "35                  Allen  2024       94.0\n",
       "47  Anchorage Independent  2024        NaN\n",
       "59               Anderson  2024       93.0"
      ]
     },
     "execution_count": 357,
     "metadata": {},
     "output_type": "execute_result"
    }
   ],
   "source": [
    "# Load and clean graduation rates dataset\n",
    "grad_df = pd.read_csv(\"../data/Cohort graduation rate.csv\")\n",
    "\n",
    "# Keep only needed columns\n",
    "grad_df = grad_df[[\"Location\", \"TimeFrame\", \"Data\"]]\n",
    "grad_df.columns = [\"county\", \"year\", \"grad_rate\"]\n",
    "\n",
    "# Standardize county names to match CHR format\n",
    "grad_df[\"county\"] = grad_df[\"county\"].str.replace(\" County\", \"\", regex=False)\n",
    "grad_df[\"county\"] = grad_df[\"county\"].str.replace(\" Co.\", \"\", regex=False)\n",
    "grad_df[\"county\"] = grad_df[\"county\"].str.replace(\" Ind.\", \" Independent\", regex=False)\n",
    "grad_df[\"county\"] = grad_df[\"county\"].str.strip()\n",
    "\n",
    "# Ensure numeric type for graduation rate\n",
    "grad_df[\"grad_rate\"] = pd.to_numeric(grad_df[\"grad_rate\"], errors=\"coerce\")\n",
    "\n",
    "# Filter to latest year\n",
    "latest_grad_year = grad_df[\"year\"].max()\n",
    "grad_latest = grad_df[grad_df[\"year\"] == latest_grad_year].copy()\n",
    "\n",
    "# Preview cleaned and filtered graduation data\n",
    "print(f\"Latest graduation year: {latest_grad_year}\")\n",
    "print(grad_latest.shape)\n",
    "grad_latest.head()\n"
   ]
  },
  {
   "cell_type": "markdown",
   "id": "18501cb9",
   "metadata": {},
   "source": [
    "Merge existing merged_df (CHR + subsidies) with latest graduation rates.\n"
   ]
  },
  {
   "cell_type": "code",
   "execution_count": 358,
   "id": "8995ad5c",
   "metadata": {},
   "outputs": [
    {
     "name": "stdout",
     "output_type": "stream",
     "text": [
      "Final dataset shape: (120, 7)\n"
     ]
    },
    {
     "data": {
      "text/html": [
       "<div>\n",
       "<style scoped>\n",
       "    .dataframe tbody tr th:only-of-type {\n",
       "        vertical-align: middle;\n",
       "    }\n",
       "\n",
       "    .dataframe tbody tr th {\n",
       "        vertical-align: top;\n",
       "    }\n",
       "\n",
       "    .dataframe thead th {\n",
       "        text-align: right;\n",
       "    }\n",
       "</style>\n",
       "<table border=\"1\" class=\"dataframe\">\n",
       "  <thead>\n",
       "    <tr style=\"text-align: right;\">\n",
       "      <th></th>\n",
       "      <th>state</th>\n",
       "      <th>county</th>\n",
       "      <th>child_poverty_pct</th>\n",
       "      <th>hs_completion_pct</th>\n",
       "      <th>year</th>\n",
       "      <th>childcare_subsidies</th>\n",
       "      <th>grad_rate</th>\n",
       "    </tr>\n",
       "  </thead>\n",
       "  <tbody>\n",
       "    <tr>\n",
       "      <th>0</th>\n",
       "      <td>KY</td>\n",
       "      <td>Adair</td>\n",
       "      <td>0.278</td>\n",
       "      <td>0.857879</td>\n",
       "      <td>2022</td>\n",
       "      <td>253.0</td>\n",
       "      <td>94.9</td>\n",
       "    </tr>\n",
       "    <tr>\n",
       "      <th>1</th>\n",
       "      <td>KY</td>\n",
       "      <td>Allen</td>\n",
       "      <td>0.215</td>\n",
       "      <td>0.849546</td>\n",
       "      <td>2022</td>\n",
       "      <td>86.0</td>\n",
       "      <td>94.0</td>\n",
       "    </tr>\n",
       "    <tr>\n",
       "      <th>2</th>\n",
       "      <td>KY</td>\n",
       "      <td>Anderson</td>\n",
       "      <td>0.122</td>\n",
       "      <td>0.916976</td>\n",
       "      <td>2022</td>\n",
       "      <td>121.0</td>\n",
       "      <td>93.0</td>\n",
       "    </tr>\n",
       "    <tr>\n",
       "      <th>3</th>\n",
       "      <td>KY</td>\n",
       "      <td>Ballard</td>\n",
       "      <td>0.224</td>\n",
       "      <td>0.936684</td>\n",
       "      <td>2022</td>\n",
       "      <td>44.0</td>\n",
       "      <td>90.5</td>\n",
       "    </tr>\n",
       "    <tr>\n",
       "      <th>4</th>\n",
       "      <td>KY</td>\n",
       "      <td>Barren</td>\n",
       "      <td>0.226</td>\n",
       "      <td>0.865345</td>\n",
       "      <td>2022</td>\n",
       "      <td>327.0</td>\n",
       "      <td>96.3</td>\n",
       "    </tr>\n",
       "  </tbody>\n",
       "</table>\n",
       "</div>"
      ],
      "text/plain": [
       "  state    county  child_poverty_pct  hs_completion_pct  year  \\\n",
       "0    KY     Adair              0.278           0.857879  2022   \n",
       "1    KY     Allen              0.215           0.849546  2022   \n",
       "2    KY  Anderson              0.122           0.916976  2022   \n",
       "3    KY   Ballard              0.224           0.936684  2022   \n",
       "4    KY    Barren              0.226           0.865345  2022   \n",
       "\n",
       "   childcare_subsidies  grad_rate  \n",
       "0                253.0       94.9  \n",
       "1                 86.0       94.0  \n",
       "2                121.0       93.0  \n",
       "3                 44.0       90.5  \n",
       "4                327.0       96.3  "
      ]
     },
     "execution_count": 358,
     "metadata": {},
     "output_type": "execute_result"
    }
   ],
   "source": [
    "# Merge existing merged_df (CHR + subsidies) with latest graduation rates\n",
    "final_df = merged_df.merge(\n",
    "    grad_latest[[\"county\", \"grad_rate\"]],\n",
    "    on=\"county\",\n",
    "    how=\"left\"\n",
    ")\n",
    "\n",
    "# Preview final merged dataset\n",
    "print(f\"Final dataset shape: {final_df.shape}\")\n",
    "final_df.head()\n"
   ]
  },
  {
   "cell_type": "code",
   "execution_count": 359,
   "id": "f939d3ac",
   "metadata": {},
   "outputs": [
    {
     "data": {
      "text/html": [
       "<div>\n",
       "<style scoped>\n",
       "    .dataframe tbody tr th:only-of-type {\n",
       "        vertical-align: middle;\n",
       "    }\n",
       "\n",
       "    .dataframe tbody tr th {\n",
       "        vertical-align: top;\n",
       "    }\n",
       "\n",
       "    .dataframe thead th {\n",
       "        text-align: right;\n",
       "    }\n",
       "</style>\n",
       "<table border=\"1\" class=\"dataframe\">\n",
       "  <thead>\n",
       "    <tr style=\"text-align: right;\">\n",
       "      <th></th>\n",
       "      <th>child_poverty_pct</th>\n",
       "      <th>hs_completion_pct</th>\n",
       "      <th>year</th>\n",
       "      <th>childcare_subsidies</th>\n",
       "      <th>grad_rate</th>\n",
       "    </tr>\n",
       "  </thead>\n",
       "  <tbody>\n",
       "    <tr>\n",
       "      <th>count</th>\n",
       "      <td>120.000000</td>\n",
       "      <td>120.000000</td>\n",
       "      <td>120.0</td>\n",
       "      <td>114.000000</td>\n",
       "      <td>120.000000</td>\n",
       "    </tr>\n",
       "    <tr>\n",
       "      <th>mean</th>\n",
       "      <td>0.235808</td>\n",
       "      <td>0.851548</td>\n",
       "      <td>2022.0</td>\n",
       "      <td>319.754386</td>\n",
       "      <td>93.515000</td>\n",
       "    </tr>\n",
       "    <tr>\n",
       "      <th>std</th>\n",
       "      <td>0.085694</td>\n",
       "      <td>0.056810</td>\n",
       "      <td>0.0</td>\n",
       "      <td>915.856034</td>\n",
       "      <td>3.132498</td>\n",
       "    </tr>\n",
       "    <tr>\n",
       "      <th>min</th>\n",
       "      <td>0.050000</td>\n",
       "      <td>0.659858</td>\n",
       "      <td>2022.0</td>\n",
       "      <td>10.000000</td>\n",
       "      <td>84.400000</td>\n",
       "    </tr>\n",
       "    <tr>\n",
       "      <th>25%</th>\n",
       "      <td>0.178250</td>\n",
       "      <td>0.813814</td>\n",
       "      <td>2022.0</td>\n",
       "      <td>58.500000</td>\n",
       "      <td>91.700000</td>\n",
       "    </tr>\n",
       "    <tr>\n",
       "      <th>50%</th>\n",
       "      <td>0.222500</td>\n",
       "      <td>0.854216</td>\n",
       "      <td>2022.0</td>\n",
       "      <td>117.500000</td>\n",
       "      <td>93.950000</td>\n",
       "    </tr>\n",
       "    <tr>\n",
       "      <th>75%</th>\n",
       "      <td>0.279250</td>\n",
       "      <td>0.896419</td>\n",
       "      <td>2022.0</td>\n",
       "      <td>248.500000</td>\n",
       "      <td>95.725000</td>\n",
       "    </tr>\n",
       "    <tr>\n",
       "      <th>max</th>\n",
       "      <td>0.536000</td>\n",
       "      <td>0.943003</td>\n",
       "      <td>2022.0</td>\n",
       "      <td>9073.000000</td>\n",
       "      <td>100.000000</td>\n",
       "    </tr>\n",
       "  </tbody>\n",
       "</table>\n",
       "</div>"
      ],
      "text/plain": [
       "       child_poverty_pct  hs_completion_pct    year  childcare_subsidies  \\\n",
       "count         120.000000         120.000000   120.0           114.000000   \n",
       "mean            0.235808           0.851548  2022.0           319.754386   \n",
       "std             0.085694           0.056810     0.0           915.856034   \n",
       "min             0.050000           0.659858  2022.0            10.000000   \n",
       "25%             0.178250           0.813814  2022.0            58.500000   \n",
       "50%             0.222500           0.854216  2022.0           117.500000   \n",
       "75%             0.279250           0.896419  2022.0           248.500000   \n",
       "max             0.536000           0.943003  2022.0          9073.000000   \n",
       "\n",
       "        grad_rate  \n",
       "count  120.000000  \n",
       "mean    93.515000  \n",
       "std      3.132498  \n",
       "min     84.400000  \n",
       "25%     91.700000  \n",
       "50%     93.950000  \n",
       "75%     95.725000  \n",
       "max    100.000000  "
      ]
     },
     "execution_count": 359,
     "metadata": {},
     "output_type": "execute_result"
    }
   ],
   "source": [
    "final_df\n",
    "final_df.describe()\n"
   ]
  },
  {
   "cell_type": "markdown",
   "id": "ff776e8f",
   "metadata": {},
   "source": [
    "\n",
    "Store each cleaned dataset in a SQLite database file named ky_readiness.db.  \n",
    "This will create three separate tables: CHR, Subsidies, Graduation. That way I can use SQL joins and queries for analysis. "
   ]
  },
  {
   "cell_type": "code",
   "execution_count": 360,
   "id": "8e938dbc",
   "metadata": {},
   "outputs": [
    {
     "name": "stdout",
     "output_type": "stream",
     "text": [
      "Tables saved to ky_readiness.db\n"
     ]
    }
   ],
   "source": [
    "# Connect to SQLite database )\n",
    "conn = sqlite3.connect(\"ky_readiness.db\")\n",
    "\n",
    "# Save each cleaned dataset as its own table\n",
    "df_chr_ky.to_sql(\"chr\", conn, if_exists=\"replace\", index=False)\n",
    "subsidies_latest.to_sql(\"subsidies\", conn, if_exists=\"replace\", index=False)\n",
    "grad_latest.to_sql(\"graduation\", conn, if_exists=\"replace\", index=False)\n",
    "\n",
    "print(\"Tables saved to ky_readiness.db\")\n"
   ]
  },
  {
   "cell_type": "markdown",
   "id": "7f4cc150",
   "metadata": {},
   "source": [
    "Combine Data Using SQL Joins  \n",
    "I combined the three SQLite tables into one final dataset ready for visualization.  \n",
    "The join is done on the county column so each county’s poverty rate, high school completion, childcare subsidies, and graduation rate appear in the same row."
   ]
  },
  {
   "cell_type": "code",
   "execution_count": 361,
   "id": "54829de8",
   "metadata": {},
   "outputs": [
    {
     "name": "stdout",
     "output_type": "stream",
     "text": [
      "Final dataset shape (SQL join): (120, 6)\n"
     ]
    },
    {
     "data": {
      "text/html": [
       "<div>\n",
       "<style scoped>\n",
       "    .dataframe tbody tr th:only-of-type {\n",
       "        vertical-align: middle;\n",
       "    }\n",
       "\n",
       "    .dataframe tbody tr th {\n",
       "        vertical-align: top;\n",
       "    }\n",
       "\n",
       "    .dataframe thead th {\n",
       "        text-align: right;\n",
       "    }\n",
       "</style>\n",
       "<table border=\"1\" class=\"dataframe\">\n",
       "  <thead>\n",
       "    <tr style=\"text-align: right;\">\n",
       "      <th></th>\n",
       "      <th>state</th>\n",
       "      <th>county</th>\n",
       "      <th>child_poverty_pct</th>\n",
       "      <th>hs_completion_pct</th>\n",
       "      <th>childcare_subsidies</th>\n",
       "      <th>grad_rate</th>\n",
       "    </tr>\n",
       "  </thead>\n",
       "  <tbody>\n",
       "    <tr>\n",
       "      <th>0</th>\n",
       "      <td>KY</td>\n",
       "      <td>Adair</td>\n",
       "      <td>0.278</td>\n",
       "      <td>0.857879</td>\n",
       "      <td>253.0</td>\n",
       "      <td>94.9</td>\n",
       "    </tr>\n",
       "    <tr>\n",
       "      <th>1</th>\n",
       "      <td>KY</td>\n",
       "      <td>Allen</td>\n",
       "      <td>0.215</td>\n",
       "      <td>0.849546</td>\n",
       "      <td>86.0</td>\n",
       "      <td>94.0</td>\n",
       "    </tr>\n",
       "    <tr>\n",
       "      <th>2</th>\n",
       "      <td>KY</td>\n",
       "      <td>Anderson</td>\n",
       "      <td>0.122</td>\n",
       "      <td>0.916976</td>\n",
       "      <td>121.0</td>\n",
       "      <td>93.0</td>\n",
       "    </tr>\n",
       "    <tr>\n",
       "      <th>3</th>\n",
       "      <td>KY</td>\n",
       "      <td>Ballard</td>\n",
       "      <td>0.224</td>\n",
       "      <td>0.936684</td>\n",
       "      <td>44.0</td>\n",
       "      <td>90.5</td>\n",
       "    </tr>\n",
       "    <tr>\n",
       "      <th>4</th>\n",
       "      <td>KY</td>\n",
       "      <td>Barren</td>\n",
       "      <td>0.226</td>\n",
       "      <td>0.865345</td>\n",
       "      <td>327.0</td>\n",
       "      <td>96.3</td>\n",
       "    </tr>\n",
       "  </tbody>\n",
       "</table>\n",
       "</div>"
      ],
      "text/plain": [
       "  state    county  child_poverty_pct  hs_completion_pct  childcare_subsidies  \\\n",
       "0    KY     Adair              0.278           0.857879                253.0   \n",
       "1    KY     Allen              0.215           0.849546                 86.0   \n",
       "2    KY  Anderson              0.122           0.916976                121.0   \n",
       "3    KY   Ballard              0.224           0.936684                 44.0   \n",
       "4    KY    Barren              0.226           0.865345                327.0   \n",
       "\n",
       "   grad_rate  \n",
       "0       94.9  \n",
       "1       94.0  \n",
       "2       93.0  \n",
       "3       90.5  \n",
       "4       96.3  "
      ]
     },
     "execution_count": 361,
     "metadata": {},
     "output_type": "execute_result"
    }
   ],
   "source": [
    "# Connect to the SQLite database\n",
    "conn = sqlite3.connect(\"ky_readiness.db\")\n",
    "\n",
    "# SQL query to join CHR, subsidies, and graduation\n",
    "sql_query = \"\"\"\n",
    "SELECT \n",
    "    chr.state,\n",
    "    chr.county,\n",
    "    chr.child_poverty_pct,\n",
    "    chr.hs_completion_pct,\n",
    "    subsidies.childcare_subsidies,\n",
    "    graduation.grad_rate\n",
    "FROM chr\n",
    "LEFT JOIN subsidies\n",
    "    ON chr.county = subsidies.county\n",
    "LEFT JOIN graduation\n",
    "    ON chr.county = graduation.county\n",
    "\"\"\"\n",
    "\n",
    "final_sql_df = pd.read_sql_query(sql_query, conn)\n",
    "\n",
    "# Preview results\n",
    "print(f\"Final dataset shape (SQL join): {final_sql_df.shape}\")\n",
    "final_sql_df.head()\n"
   ]
  },
  {
   "cell_type": "markdown",
   "id": "a4a69ba9",
   "metadata": {},
   "source": [
    "4 Functions for Analysis  \n",
    " Checking for missing data  \n",
    " Formatting numeric values as percentages  \n",
    " Filtering rows based on a threshold value \n",
    " Calculate the range of childcare subsidies "
   ]
  },
  {
   "cell_type": "code",
   "execution_count": 362,
   "id": "b4df0150",
   "metadata": {},
   "outputs": [
    {
     "name": "stdout",
     "output_type": "stream",
     "text": [
      "Missing values in grad_rate: 0\n",
      "Formatted poverty rate for first row: 27.8%\n",
      "Childcare subsidies range from 10 children to over 9073\n"
     ]
    },
    {
     "data": {
      "text/html": [
       "<div>\n",
       "<style scoped>\n",
       "    .dataframe tbody tr th:only-of-type {\n",
       "        vertical-align: middle;\n",
       "    }\n",
       "\n",
       "    .dataframe tbody tr th {\n",
       "        vertical-align: top;\n",
       "    }\n",
       "\n",
       "    .dataframe thead th {\n",
       "        text-align: right;\n",
       "    }\n",
       "</style>\n",
       "<table border=\"1\" class=\"dataframe\">\n",
       "  <thead>\n",
       "    <tr style=\"text-align: right;\">\n",
       "      <th></th>\n",
       "      <th>state</th>\n",
       "      <th>county</th>\n",
       "      <th>child_poverty_pct</th>\n",
       "      <th>hs_completion_pct</th>\n",
       "      <th>childcare_subsidies</th>\n",
       "      <th>grad_rate</th>\n",
       "    </tr>\n",
       "  </thead>\n",
       "  <tbody>\n",
       "    <tr>\n",
       "      <th>4</th>\n",
       "      <td>KY</td>\n",
       "      <td>Barren</td>\n",
       "      <td>0.226</td>\n",
       "      <td>0.865345</td>\n",
       "      <td>327.0</td>\n",
       "      <td>96.3</td>\n",
       "    </tr>\n",
       "    <tr>\n",
       "      <th>5</th>\n",
       "      <td>KY</td>\n",
       "      <td>Bath</td>\n",
       "      <td>0.266</td>\n",
       "      <td>0.813872</td>\n",
       "      <td>69.0</td>\n",
       "      <td>96.5</td>\n",
       "    </tr>\n",
       "    <tr>\n",
       "      <th>7</th>\n",
       "      <td>KY</td>\n",
       "      <td>Boone</td>\n",
       "      <td>0.085</td>\n",
       "      <td>0.935858</td>\n",
       "      <td>944.0</td>\n",
       "      <td>96.2</td>\n",
       "    </tr>\n",
       "    <tr>\n",
       "      <th>13</th>\n",
       "      <td>KY</td>\n",
       "      <td>Breckinridge</td>\n",
       "      <td>0.221</td>\n",
       "      <td>0.864082</td>\n",
       "      <td>101.0</td>\n",
       "      <td>95.4</td>\n",
       "    </tr>\n",
       "    <tr>\n",
       "      <th>14</th>\n",
       "      <td>KY</td>\n",
       "      <td>Bullitt</td>\n",
       "      <td>0.106</td>\n",
       "      <td>0.895736</td>\n",
       "      <td>612.0</td>\n",
       "      <td>95.5</td>\n",
       "    </tr>\n",
       "  </tbody>\n",
       "</table>\n",
       "</div>"
      ],
      "text/plain": [
       "   state        county  child_poverty_pct  hs_completion_pct  \\\n",
       "4     KY        Barren              0.226           0.865345   \n",
       "5     KY          Bath              0.266           0.813872   \n",
       "7     KY         Boone              0.085           0.935858   \n",
       "13    KY  Breckinridge              0.221           0.864082   \n",
       "14    KY       Bullitt              0.106           0.895736   \n",
       "\n",
       "    childcare_subsidies  grad_rate  \n",
       "4                 327.0       96.3  \n",
       "5                  69.0       96.5  \n",
       "7                 944.0       96.2  \n",
       "13                101.0       95.4  \n",
       "14                612.0       95.5  "
      ]
     },
     "execution_count": 362,
     "metadata": {},
     "output_type": "execute_result"
    }
   ],
   "source": [
    "# 1. Count missing values\n",
    "# Checking for missing data\n",
    "def count_missing(series: pd.Series) -> int:\n",
    "      return series.isna().sum()\n",
    "\n",
    "# 2. Format a decimal value as a percentage string\n",
    "#  Formatting numeric values as percentages\n",
    "def format_pct(value: float) -> str:\n",
    "    if pd.isna(value):\n",
    "        return \"N/A\"\n",
    "    return f\"{value * 100:.1f}%\"\n",
    "\n",
    "\n",
    "# 3. Filter counties where a column's value is above a given threshold\n",
    "#  Filtering rows based on a threshold value \n",
    "def filter_counties_by_threshold(df: pd.DataFrame, column: str, threshold: float) -> pd.DataFrame:\n",
    "     return df[df[column] > threshold]\n",
    "\n",
    "print(\"Missing values in grad_rate:\", count_missing(final_sql_df[\"grad_rate\"]))\n",
    "print(\"Formatted poverty rate for first row:\", format_pct(final_sql_df.loc[0, \"child_poverty_pct\"]))\n",
    "filter_counties_by_threshold(final_sql_df, \"grad_rate\", 95).head()\n",
    "\n",
    "# 4. Calculate the range of childcare subsidies\n",
    "def subsidy_range(df):\n",
    "    min_val = int(df[\"childcare_subsidies\"].min())\n",
    "    max_val = int(df[\"childcare_subsidies\"].max())\n",
    "    return min_val, max_val\n",
    "\n",
    "# Calculate the range of childcare subsidies\n",
    "min_subsidy, max_subsidy = subsidy_range(final_sql_df)\n",
    "print(f\"Childcare subsidies range from {min_subsidy} children to over {max_subsidy}\")\n",
    "\n",
    "filter_counties_by_threshold(final_sql_df, \"grad_rate\", 95).head()"
   ]
  },
  {
   "cell_type": "markdown",
   "id": "5b3fc05f",
   "metadata": {},
   "source": [
    "Childcare subsidies range from 10 children in small counties to over 9073 in urban areas like Jefferson County."
   ]
  },
  {
   "cell_type": "code",
   "execution_count": 367,
   "id": "dd4b209c",
   "metadata": {},
   "outputs": [
    {
     "data": {
      "text/html": [
       "<div>\n",
       "<style scoped>\n",
       "    .dataframe tbody tr th:only-of-type {\n",
       "        vertical-align: middle;\n",
       "    }\n",
       "\n",
       "    .dataframe tbody tr th {\n",
       "        vertical-align: top;\n",
       "    }\n",
       "\n",
       "    .dataframe thead th {\n",
       "        text-align: right;\n",
       "    }\n",
       "</style>\n",
       "<table border=\"1\" class=\"dataframe\">\n",
       "  <thead>\n",
       "    <tr style=\"text-align: right;\">\n",
       "      <th></th>\n",
       "      <th>county</th>\n",
       "      <th>child_poverty_pct</th>\n",
       "      <th>child_stability_estimate</th>\n",
       "    </tr>\n",
       "  </thead>\n",
       "  <tbody>\n",
       "    <tr>\n",
       "      <th>0</th>\n",
       "      <td>Adair</td>\n",
       "      <td>0.278</td>\n",
       "      <td>0.722</td>\n",
       "    </tr>\n",
       "    <tr>\n",
       "      <th>1</th>\n",
       "      <td>Allen</td>\n",
       "      <td>0.215</td>\n",
       "      <td>0.785</td>\n",
       "    </tr>\n",
       "    <tr>\n",
       "      <th>2</th>\n",
       "      <td>Anderson</td>\n",
       "      <td>0.122</td>\n",
       "      <td>0.878</td>\n",
       "    </tr>\n",
       "    <tr>\n",
       "      <th>3</th>\n",
       "      <td>Ballard</td>\n",
       "      <td>0.224</td>\n",
       "      <td>0.776</td>\n",
       "    </tr>\n",
       "    <tr>\n",
       "      <th>4</th>\n",
       "      <td>Barren</td>\n",
       "      <td>0.226</td>\n",
       "      <td>0.774</td>\n",
       "    </tr>\n",
       "  </tbody>\n",
       "</table>\n",
       "</div>"
      ],
      "text/plain": [
       "     county  child_poverty_pct  child_stability_estimate\n",
       "0     Adair              0.278                     0.722\n",
       "1     Allen              0.215                     0.785\n",
       "2  Anderson              0.122                     0.878\n",
       "3   Ballard              0.224                     0.776\n",
       "4    Barren              0.226                     0.774"
      ]
     },
     "execution_count": 367,
     "metadata": {},
     "output_type": "execute_result"
    }
   ],
   "source": [
    "final_sql_df[\"child_stability_estimate\"] = 1 - final_sql_df[\"child_poverty_pct\"]\n",
    "\n",
    "final_sql_df[[\"county\", \"child_poverty_pct\", \"child_stability_estimate\"]].head()\n"
   ]
  },
  {
   "cell_type": "markdown",
   "id": "f3f33c6a",
   "metadata": {},
   "source": [
    "New Feature: child_stability_estimate\n",
    "\n",
    "child_stability_estimate – This was created by subtracting the child poverty percent from 1.  \n",
    "For example, if the poverty rate is 27.8%, this new column shows 72.2%.  \n",
    "It gives a different framing by estimating the percent of children likely NOT in poverty."
   ]
  },
  {
   "cell_type": "markdown",
   "id": "7b0d12d3",
   "metadata": {},
   "source": [
    "Chart 1 – Child Poverty Rate by County  \n",
    "This chart shows the 10 Kentucky counties with the highest percentage of children living in poverty.  \n",
    "Sorting by poverty rate helps highlight where support and resources may be most needed."
   ]
  },
  {
   "cell_type": "code",
   "execution_count": 363,
   "id": "f3dd5981",
   "metadata": {},
   "outputs": [
    {
     "data": {
      "image/png": "[encoded data removed]",
      "text/plain": [
       "<Figure size 1000x600 with 1 Axes>"
      ]
     },
     "metadata": {},
     "output_type": "display_data"
    }
   ],
   "source": [
    "# Sort by child_poverty_pct and get top 10\n",
    "top10_poverty = final_sql_df.sort_values(\"child_poverty_pct\", ascending=False).head(10)\n",
    "\n",
    "# Plot\n",
    "plt.figure(figsize=(10, 6))\n",
    "plt.barh(top10_poverty[\"county\"], top10_poverty[\"child_poverty_pct\"] * 100)  # multiply by 100 for %\n",
    "plt.xlabel(\"Child Poverty Rate (%)\")\n",
    "plt.ylabel(\"County\")\n",
    "plt.title(\"Top 10 KY Counties by Child Poverty Rate\")\n",
    "plt.gca().invert_yaxis()  # highest at top\n",
    "plt.show()\n"
   ]
  },
  {
   "cell_type": "markdown",
   "id": "24a645dc",
   "metadata": {},
   "source": [
    "Chart 2 — Vertical Bar Chart: Top KY Counties by Childcare Subsidies  \n",
    "This chart shows the 15 Kentucky counties with the highest number of children receiving childcare subsidies in the latest available year.  \n",
    "Sorting the data in descending order makes it easier to see which counties have the largest numbers.  "
   ]
  },
  {
   "cell_type": "code",
   "execution_count": 364,
   "id": "6d60b877",
   "metadata": {},
   "outputs": [
    {
     "data": {
      "image/png": "[encoded data removed]",
      "text/plain": [
       "<Figure size 1000x600 with 1 Axes>"
      ]
     },
     "metadata": {},
     "output_type": "display_data"
    }
   ],
   "source": [
    "import matplotlib.pyplot as plt\n",
    "\n",
    "# Sort by subsidies for better readability\n",
    "sorted_df = final_df.sort_values(by=\"childcare_subsidies\", ascending=False).head(15)  # top 15 counties\n",
    "\n",
    "# Vertical bar chart\n",
    "plt.figure(figsize=(10, 6))\n",
    "plt.bar(sorted_df[\"county\"], sorted_df[\"childcare_subsidies\"], color=\"skyblue\", edgecolor=\"black\")\n",
    "plt.title(\"Top 15 KY Counties by Childcare Subsidies (Latest Year)\")\n",
    "plt.xlabel(\"County\")\n",
    "plt.ylabel(\"Number of Children Receiving Subsidies\")\n",
    "plt.xticks(rotation=45, ha=\"right\")\n",
    "plt.tight_layout()\n",
    "plt.show()\n"
   ]
  },
  {
   "cell_type": "markdown",
   "id": "95aa011a",
   "metadata": {},
   "source": [
    "Chart 3 — Scatter Plot: Child Poverty vs. Graduation Rate  \n",
    "This scatter plot compares each Kentucky county’s child poverty percentage with its high school graduation rate.  \n",
    "The purpose is to look for possible relationships between poverty levels and graduation rates across counties.  \n",
    "Each point represents a single county.  "
   ]
  },
  {
   "cell_type": "code",
   "execution_count": 365,
   "id": "e238a69a",
   "metadata": {},
   "outputs": [
    {
     "data": {
      "image/png": "[encoded data removed]",
      "text/plain": [
       "<Figure size 800x600 with 1 Axes>"
      ]
     },
     "metadata": {},
     "output_type": "display_data"
    }
   ],
   "source": [
    "# Chart 3 — Scatter Plot with Trendline: Child Poverty vs. Graduation Rate\n",
    "x = final_df[\"child_poverty_pct\"] * 100  # Convert to %\n",
    "y = final_df[\"grad_rate\"]\n",
    "\n",
    "plt.figure(figsize=(8, 6))\n",
    "plt.scatter(x, y, alpha=0.7, label=\"Counties\")\n",
    "\n",
    "# Calculate and plot trendline\n",
    "z = np.polyfit(x, y, 1)  # 1 = linear fit\n",
    "p = np.poly1d(z)\n",
    "plt.plot(x, p(x), color=\"red\", linewidth=2, label=\"Trendline\")\n",
    "\n",
    "# Labels and title\n",
    "plt.title(\"Child Poverty vs. Graduation Rate by County (KY)\")\n",
    "plt.xlabel(\"Child Poverty (%)\")\n",
    "plt.ylabel(\"Graduation Rate (%)\")\n",
    "plt.grid(True, linestyle=\"--\", alpha=0.5)\n",
    "plt.legend()\n",
    "\n",
    "plt.show()\n"
   ]
  },
  {
   "cell_type": "markdown",
   "id": "89086668",
   "metadata": {},
   "source": [
    "The trendline shows the general direction of the relationship. In this case, as poverty increases, graduation rates tend to drop slightly, which aligns with research on educational outcomes."
   ]
  },
  {
   "cell_type": "markdown",
   "id": "097d2170",
   "metadata": {},
   "source": [
    "Project Summary\n",
    "\n",
    "I wanted to see if there’s a link between child poverty, high school completion, childcare support, and graduation rates across Kentucky counties. I wanted to pull all three together to get a better view of what might be affecting education outcomes. This matters because the right support at the right time can make a big difference. If some areas are struggling more than others, that’s something worth paying attention to. \n",
    "\n",
    "To do this, I used three public datasets: County Health Rankings (for poverty and high school completion), Kentucky Kids Count (for childcare subsidies), and the KY Department of Education (for graduation rates). I cleaned them so they matched, stored them in a small SQLite database, and combined them using both Python and SQL and made 3 charts to look for patterns. \n",
    "\n",
    "What I found: graduation rates are generally high, but there are counties with more poverty that still lag behind. Some places have a lot more access to childcare subsidies than others in Kentucky.  "
   ]
  }
 ],
 "metadata": {
  "kernelspec": {
   "display_name": "Python 3 (ipykernel)",
   "language": "python",
   "name": "python3"
  },
  "language_info": {
   "codemirror_mode": {
    "name": "ipython",
    "version": 3
   },
   "file_extension": ".py",
   "mimetype": "text/x-python",
   "name": "python",
   "nbconvert_exporter": "python",
   "pygments_lexer": "ipython3",
   "version": "3.12.5"
  }
 },
 "nbformat": 4,
 "nbformat_minor": 5
}
