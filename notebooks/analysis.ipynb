{
 "cells": [
  {
   "cell_type": "markdown",
   "id": "36be300d",
   "metadata": {},
   "source": [
    "Looking at Kentucky county-level data to explore connections between child poverty, education outcomes, and early education access."
   ]
  },
  {
   "cell_type": "code",
   "execution_count": 74,
   "id": "e4fc9b14",
   "metadata": {},
   "outputs": [],
   "source": [
    "# import necessary libraries\n",
    "import pandas as pd\n",
    "import numpy as np\n",
    "import matplotlib.pyplot as plt\n",
    "import seaborn as sns\n",
    "import os "
   ]
  },
  {
   "cell_type": "markdown",
   "id": "caa05b93",
   "metadata": {},
   "source": [
    "## Load County Health Rankings (National)\n",
    "Load the County Health Rankings dataset from the national CSV file.  \n",
    "Source: County Health Rankings & Roadmaps (https://www.countyhealthrankings.org/)  \n",
    "Reason: Contains health, education, and economic indicators for all U.S. counties, which will be filtered to Kentucky for this analysis."
   ]
  },
  {
   "cell_type": "code",
   "execution_count": 75,
   "id": "8848da83",
   "metadata": {},
   "outputs": [],
   "source": [
    "# load county health rankings (national)\n",
    "df_chr_ky = pd.read_csv(\"../data/analytic_data2025_v2.csv\", low_memory=False)"
   ]
  },
  {
   "cell_type": "markdown",
   "id": "cdcccf6e",
   "metadata": {},
   "source": [
    "### Filter to Kentucky only\n",
    "Keep only rows where the state abbreviation is KY."
   ]
  },
  {
   "cell_type": "code",
   "execution_count": 76,
   "id": "d9266e2b",
   "metadata": {},
   "outputs": [],
   "source": [
    "# filter to Kentucky\n",
    "df_chr_ky = df[df[\"State Abbreviation\"] == \"KY\"]"
   ]
  },
  {
   "cell_type": "markdown",
   "id": "d2d5224e",
   "metadata": {},
   "source": [
    "### Select columns needed\n",
    "Keep only state, county, child poverty percentage, and high school completion percentage."
   ]
  },
  {
   "cell_type": "code",
   "execution_count": 77,
   "id": "cb8412fb",
   "metadata": {},
   "outputs": [
    {
     "data": {
      "text/html": [
       "<div>\n",
       "<style scoped>\n",
       "    .dataframe tbody tr th:only-of-type {\n",
       "        vertical-align: middle;\n",
       "    }\n",
       "\n",
       "    .dataframe tbody tr th {\n",
       "        vertical-align: top;\n",
       "    }\n",
       "\n",
       "    .dataframe thead th {\n",
       "        text-align: right;\n",
       "    }\n",
       "</style>\n",
       "<table border=\"1\" class=\"dataframe\">\n",
       "  <thead>\n",
       "    <tr style=\"text-align: right;\">\n",
       "      <th></th>\n",
       "      <th>State Abbreviation</th>\n",
       "      <th>Name</th>\n",
       "      <th>Children in Poverty raw value</th>\n",
       "      <th>High School Completion raw value</th>\n",
       "    </tr>\n",
       "  </thead>\n",
       "  <tbody>\n",
       "    <tr>\n",
       "      <th>1022</th>\n",
       "      <td>KY</td>\n",
       "      <td>Kentucky</td>\n",
       "      <td>0.202</td>\n",
       "      <td>0.8853320347</td>\n",
       "    </tr>\n",
       "    <tr>\n",
       "      <th>1023</th>\n",
       "      <td>KY</td>\n",
       "      <td>Adair County</td>\n",
       "      <td>0.278</td>\n",
       "      <td>0.8578791192</td>\n",
       "    </tr>\n",
       "    <tr>\n",
       "      <th>1024</th>\n",
       "      <td>KY</td>\n",
       "      <td>Allen County</td>\n",
       "      <td>0.215</td>\n",
       "      <td>0.8495460441</td>\n",
       "    </tr>\n",
       "  </tbody>\n",
       "</table>\n",
       "</div>"
      ],
      "text/plain": [
       "     State Abbreviation          Name Children in Poverty raw value  \\\n",
       "1022                 KY      Kentucky                         0.202   \n",
       "1023                 KY  Adair County                         0.278   \n",
       "1024                 KY  Allen County                         0.215   \n",
       "\n",
       "     High School Completion raw value  \n",
       "1022                     0.8853320347  \n",
       "1023                     0.8578791192  \n",
       "1024                     0.8495460441  "
      ]
     },
     "execution_count": 77,
     "metadata": {},
     "output_type": "execute_result"
    }
   ],
   "source": [
    "# keep only the columns needed\n",
    "columns_to_keep = [\n",
    "    \"State Abbreviation\",\n",
    "    \"Name\",                           # county name\n",
    "    \"Children in Poverty raw value\",\n",
    "    \"High School Completion raw value\"\n",
    "]\n",
    "\n",
    "df_chr_ky = df_chr_ky[columns_to_keep]\n",
    "df_chr_ky.head(3)"
   ]
  },
  {
   "cell_type": "markdown",
   "id": "8161a525",
   "metadata": {},
   "source": [
    "### Rename columns for clarity\n",
    "Rename to lowercase, descriptive names to match other datasets."
   ]
  },
  {
   "cell_type": "code",
   "execution_count": 78,
   "id": "5cafbe7b",
   "metadata": {},
   "outputs": [
    {
     "data": {
      "text/html": [
       "<div>\n",
       "<style scoped>\n",
       "    .dataframe tbody tr th:only-of-type {\n",
       "        vertical-align: middle;\n",
       "    }\n",
       "\n",
       "    .dataframe tbody tr th {\n",
       "        vertical-align: top;\n",
       "    }\n",
       "\n",
       "    .dataframe thead th {\n",
       "        text-align: right;\n",
       "    }\n",
       "</style>\n",
       "<table border=\"1\" class=\"dataframe\">\n",
       "  <thead>\n",
       "    <tr style=\"text-align: right;\">\n",
       "      <th></th>\n",
       "      <th>state</th>\n",
       "      <th>county</th>\n",
       "      <th>child_poverty_pct</th>\n",
       "      <th>hs_completion_pct</th>\n",
       "    </tr>\n",
       "  </thead>\n",
       "  <tbody>\n",
       "    <tr>\n",
       "      <th>1022</th>\n",
       "      <td>KY</td>\n",
       "      <td>Kentucky</td>\n",
       "      <td>0.202</td>\n",
       "      <td>0.8853320347</td>\n",
       "    </tr>\n",
       "    <tr>\n",
       "      <th>1023</th>\n",
       "      <td>KY</td>\n",
       "      <td>Adair County</td>\n",
       "      <td>0.278</td>\n",
       "      <td>0.8578791192</td>\n",
       "    </tr>\n",
       "    <tr>\n",
       "      <th>1024</th>\n",
       "      <td>KY</td>\n",
       "      <td>Allen County</td>\n",
       "      <td>0.215</td>\n",
       "      <td>0.8495460441</td>\n",
       "    </tr>\n",
       "  </tbody>\n",
       "</table>\n",
       "</div>"
      ],
      "text/plain": [
       "     state        county child_poverty_pct hs_completion_pct\n",
       "1022    KY      Kentucky             0.202      0.8853320347\n",
       "1023    KY  Adair County             0.278      0.8578791192\n",
       "1024    KY  Allen County             0.215      0.8495460441"
      ]
     },
     "execution_count": 78,
     "metadata": {},
     "output_type": "execute_result"
    }
   ],
   "source": [
    "# rename to match the format of other datasets\n",
    "df_chr_ky.columns = [\n",
    "    \"state\",\n",
    "    \"county\",\n",
    "    \"child_poverty_pct\",\n",
    "    \"hs_completion_pct\"\n",
    "]\n",
    "\n",
    "df_chr_ky.head(3)"
   ]
  },
  {
   "cell_type": "markdown",
   "id": "ab4ba530",
   "metadata": {},
   "source": [
    "### Clean county names\n",
    "Remove \" County\" from county names and drop the statewide summary row."
   ]
  },
  {
   "cell_type": "code",
   "execution_count": 79,
   "id": "ced64018",
   "metadata": {},
   "outputs": [
    {
     "data": {
      "text/html": [
       "<div>\n",
       "<style scoped>\n",
       "    .dataframe tbody tr th:only-of-type {\n",
       "        vertical-align: middle;\n",
       "    }\n",
       "\n",
       "    .dataframe tbody tr th {\n",
       "        vertical-align: top;\n",
       "    }\n",
       "\n",
       "    .dataframe thead th {\n",
       "        text-align: right;\n",
       "    }\n",
       "</style>\n",
       "<table border=\"1\" class=\"dataframe\">\n",
       "  <thead>\n",
       "    <tr style=\"text-align: right;\">\n",
       "      <th></th>\n",
       "      <th>state</th>\n",
       "      <th>county</th>\n",
       "      <th>child_poverty_pct</th>\n",
       "      <th>hs_completion_pct</th>\n",
       "    </tr>\n",
       "  </thead>\n",
       "  <tbody>\n",
       "    <tr>\n",
       "      <th>1023</th>\n",
       "      <td>KY</td>\n",
       "      <td>Adair</td>\n",
       "      <td>0.278</td>\n",
       "      <td>0.8578791192</td>\n",
       "    </tr>\n",
       "    <tr>\n",
       "      <th>1024</th>\n",
       "      <td>KY</td>\n",
       "      <td>Allen</td>\n",
       "      <td>0.215</td>\n",
       "      <td>0.8495460441</td>\n",
       "    </tr>\n",
       "    <tr>\n",
       "      <th>1025</th>\n",
       "      <td>KY</td>\n",
       "      <td>Anderson</td>\n",
       "      <td>0.122</td>\n",
       "      <td>0.9169763817</td>\n",
       "    </tr>\n",
       "  </tbody>\n",
       "</table>\n",
       "</div>"
      ],
      "text/plain": [
       "     state    county child_poverty_pct hs_completion_pct\n",
       "1023    KY     Adair             0.278      0.8578791192\n",
       "1024    KY     Allen             0.215      0.8495460441\n",
       "1025    KY  Anderson             0.122      0.9169763817"
      ]
     },
     "execution_count": 79,
     "metadata": {},
     "output_type": "execute_result"
    }
   ],
   "source": [
    "df_chr_ky[\"county\"] = df_chr_ky[\"county\"].str.replace(\" County\", \"\", regex=False)\n",
    "df_chr_ky = df_chr_ky[df_chr_ky[\"county\"] != \"Kentucky\"]\n",
    "df_chr_ky.head(3)"
   ]
  },
  {
   "cell_type": "markdown",
   "id": "9e5fb67b",
   "metadata": {},
   "source": [
    "### Convert columns to numeric\n",
    "Ensure percentages are stored as numeric types for calculations."
   ]
  },
  {
   "cell_type": "code",
   "execution_count": 80,
   "id": "cafc753f",
   "metadata": {},
   "outputs": [
    {
     "data": {
      "text/html": [
       "<div>\n",
       "<style scoped>\n",
       "    .dataframe tbody tr th:only-of-type {\n",
       "        vertical-align: middle;\n",
       "    }\n",
       "\n",
       "    .dataframe tbody tr th {\n",
       "        vertical-align: top;\n",
       "    }\n",
       "\n",
       "    .dataframe thead th {\n",
       "        text-align: right;\n",
       "    }\n",
       "</style>\n",
       "<table border=\"1\" class=\"dataframe\">\n",
       "  <thead>\n",
       "    <tr style=\"text-align: right;\">\n",
       "      <th></th>\n",
       "      <th>count</th>\n",
       "      <th>unique</th>\n",
       "      <th>top</th>\n",
       "      <th>freq</th>\n",
       "      <th>mean</th>\n",
       "      <th>std</th>\n",
       "      <th>min</th>\n",
       "      <th>25%</th>\n",
       "      <th>50%</th>\n",
       "      <th>75%</th>\n",
       "      <th>max</th>\n",
       "    </tr>\n",
       "  </thead>\n",
       "  <tbody>\n",
       "    <tr>\n",
       "      <th>state</th>\n",
       "      <td>120</td>\n",
       "      <td>1</td>\n",
       "      <td>KY</td>\n",
       "      <td>120</td>\n",
       "      <td>NaN</td>\n",
       "      <td>NaN</td>\n",
       "      <td>NaN</td>\n",
       "      <td>NaN</td>\n",
       "      <td>NaN</td>\n",
       "      <td>NaN</td>\n",
       "      <td>NaN</td>\n",
       "    </tr>\n",
       "    <tr>\n",
       "      <th>county</th>\n",
       "      <td>120</td>\n",
       "      <td>120</td>\n",
       "      <td>Adair</td>\n",
       "      <td>1</td>\n",
       "      <td>NaN</td>\n",
       "      <td>NaN</td>\n",
       "      <td>NaN</td>\n",
       "      <td>NaN</td>\n",
       "      <td>NaN</td>\n",
       "      <td>NaN</td>\n",
       "      <td>NaN</td>\n",
       "    </tr>\n",
       "    <tr>\n",
       "      <th>child_poverty_pct</th>\n",
       "      <td>120.0</td>\n",
       "      <td>NaN</td>\n",
       "      <td>NaN</td>\n",
       "      <td>NaN</td>\n",
       "      <td>0.235808</td>\n",
       "      <td>0.085694</td>\n",
       "      <td>0.05</td>\n",
       "      <td>0.17825</td>\n",
       "      <td>0.2225</td>\n",
       "      <td>0.27925</td>\n",
       "      <td>0.536</td>\n",
       "    </tr>\n",
       "    <tr>\n",
       "      <th>hs_completion_pct</th>\n",
       "      <td>120.0</td>\n",
       "      <td>NaN</td>\n",
       "      <td>NaN</td>\n",
       "      <td>NaN</td>\n",
       "      <td>0.851548</td>\n",
       "      <td>0.05681</td>\n",
       "      <td>0.659858</td>\n",
       "      <td>0.813814</td>\n",
       "      <td>0.854216</td>\n",
       "      <td>0.896419</td>\n",
       "      <td>0.943003</td>\n",
       "    </tr>\n",
       "  </tbody>\n",
       "</table>\n",
       "</div>"
      ],
      "text/plain": [
       "                   count unique    top freq      mean       std       min  \\\n",
       "state                120      1     KY  120       NaN       NaN       NaN   \n",
       "county               120    120  Adair    1       NaN       NaN       NaN   \n",
       "child_poverty_pct  120.0    NaN    NaN  NaN  0.235808  0.085694      0.05   \n",
       "hs_completion_pct  120.0    NaN    NaN  NaN  0.851548   0.05681  0.659858   \n",
       "\n",
       "                        25%       50%       75%       max  \n",
       "state                   NaN       NaN       NaN       NaN  \n",
       "county                  NaN       NaN       NaN       NaN  \n",
       "child_poverty_pct   0.17825    0.2225   0.27925     0.536  \n",
       "hs_completion_pct  0.813814  0.854216  0.896419  0.943003  "
      ]
     },
     "execution_count": 80,
     "metadata": {},
     "output_type": "execute_result"
    }
   ],
   "source": [
    "df_chr_ky[\"child_poverty_pct\"] = pd.to_numeric(df_chr_ky[\"child_poverty_pct\"], errors=\"coerce\")\n",
    "df_chr_ky[\"hs_completion_pct\"] = pd.to_numeric(df_chr_ky[\"hs_completion_pct\"], errors=\"coerce\")\n",
    "df_chr_ky.describe(include=\"all\").T.head(6)\n",
    "\n",
    "df_chr_ky.describe(include=\"all\").T.head(6)"
   ]
  },
  {
   "cell_type": "markdown",
   "id": "25b341c8",
   "metadata": {},
   "source": [
    "Check for missing values"
   ]
  },
  {
   "cell_type": "code",
   "execution_count": 81,
   "id": "52212299",
   "metadata": {},
   "outputs": [
    {
     "data": {
      "text/plain": [
       "state                0\n",
       "county               0\n",
       "child_poverty_pct    0\n",
       "hs_completion_pct    0\n",
       "dtype: int64"
      ]
     },
     "execution_count": 81,
     "metadata": {},
     "output_type": "execute_result"
    }
   ],
   "source": [
    "df_chr_ky.isnull().sum()"
   ]
  },
  {
   "cell_type": "markdown",
   "id": "688bc37a",
   "metadata": {},
   "source": [
    "## Load and clean childcare subsidies dataset  \n",
    "Source: Kentucky KIDS COUNT  \n",
    "I wanted to filter to county-level data, keep only relevant columns, clean names, and convert to numeric types."
   ]
  },
  {
   "cell_type": "code",
   "execution_count": 82,
   "id": "eab5e8e5",
   "metadata": {},
   "outputs": [
    {
     "data": {
      "text/plain": [
       "(2662, 5)"
      ]
     },
     "execution_count": 82,
     "metadata": {},
     "output_type": "execute_result"
    }
   ],
   "source": [
    "# Load childcare subsidies dataset\n",
    "subsidies_df = pd.read_csv(\"../data/Children receiving childcare subsidies.csv\")\n",
    "subsidies_df.shape"
   ]
  },
  {
   "cell_type": "markdown",
   "id": "fabc49c6",
   "metadata": {},
   "source": [
    "## Clean childcare subsidies data  \n",
    "Source: Kentucky KIDS COUNT.  \n",
    "Steps: filter to county rows, keep only needed columns, rename for clarity, clean county names, and convert subsidies to numeric."
   ]
  },
  {
   "cell_type": "code",
   "execution_count": 90,
   "id": "819aaeb1",
   "metadata": {},
   "outputs": [
    {
     "name": "stdout",
     "output_type": "stream",
     "text": [
      "Latest subsidies year: 2022\n",
      "Merged dataset shape: (120, 6)\n"
     ]
    },
    {
     "data": {
      "text/html": [
       "<div>\n",
       "<style scoped>\n",
       "    .dataframe tbody tr th:only-of-type {\n",
       "        vertical-align: middle;\n",
       "    }\n",
       "\n",
       "    .dataframe tbody tr th {\n",
       "        vertical-align: top;\n",
       "    }\n",
       "\n",
       "    .dataframe thead th {\n",
       "        text-align: right;\n",
       "    }\n",
       "</style>\n",
       "<table border=\"1\" class=\"dataframe\">\n",
       "  <thead>\n",
       "    <tr style=\"text-align: right;\">\n",
       "      <th></th>\n",
       "      <th>state</th>\n",
       "      <th>county</th>\n",
       "      <th>child_poverty_pct</th>\n",
       "      <th>hs_completion_pct</th>\n",
       "      <th>year</th>\n",
       "      <th>childcare_subsidies</th>\n",
       "    </tr>\n",
       "  </thead>\n",
       "  <tbody>\n",
       "    <tr>\n",
       "      <th>0</th>\n",
       "      <td>KY</td>\n",
       "      <td>Adair</td>\n",
       "      <td>0.278</td>\n",
       "      <td>0.857879</td>\n",
       "      <td>2022</td>\n",
       "      <td>253.0</td>\n",
       "    </tr>\n",
       "    <tr>\n",
       "      <th>1</th>\n",
       "      <td>KY</td>\n",
       "      <td>Allen</td>\n",
       "      <td>0.215</td>\n",
       "      <td>0.849546</td>\n",
       "      <td>2022</td>\n",
       "      <td>86.0</td>\n",
       "    </tr>\n",
       "    <tr>\n",
       "      <th>2</th>\n",
       "      <td>KY</td>\n",
       "      <td>Anderson</td>\n",
       "      <td>0.122</td>\n",
       "      <td>0.916976</td>\n",
       "      <td>2022</td>\n",
       "      <td>121.0</td>\n",
       "    </tr>\n",
       "    <tr>\n",
       "      <th>3</th>\n",
       "      <td>KY</td>\n",
       "      <td>Ballard</td>\n",
       "      <td>0.224</td>\n",
       "      <td>0.936684</td>\n",
       "      <td>2022</td>\n",
       "      <td>44.0</td>\n",
       "    </tr>\n",
       "    <tr>\n",
       "      <th>4</th>\n",
       "      <td>KY</td>\n",
       "      <td>Barren</td>\n",
       "      <td>0.226</td>\n",
       "      <td>0.865345</td>\n",
       "      <td>2022</td>\n",
       "      <td>327.0</td>\n",
       "    </tr>\n",
       "  </tbody>\n",
       "</table>\n",
       "</div>"
      ],
      "text/plain": [
       "  state    county  child_poverty_pct  hs_completion_pct  year  \\\n",
       "0    KY     Adair              0.278           0.857879  2022   \n",
       "1    KY     Allen              0.215           0.849546  2022   \n",
       "2    KY  Anderson              0.122           0.916976  2022   \n",
       "3    KY   Ballard              0.224           0.936684  2022   \n",
       "4    KY    Barren              0.226           0.865345  2022   \n",
       "\n",
       "   childcare_subsidies  \n",
       "0                253.0  \n",
       "1                 86.0  \n",
       "2                121.0  \n",
       "3                 44.0  \n",
       "4                327.0  "
      ]
     },
     "execution_count": 90,
     "metadata": {},
     "output_type": "execute_result"
    }
   ],
   "source": [
    "# Load and clean subsidies data\n",
    "subsidies_df = pd.read_csv(\"../data/Children receiving childcare subsidies.csv\")\n",
    "subsidies_df = subsidies_df[subsidies_df[\"LocationType\"] == \"County\"]\n",
    "subsidies_df = subsidies_df[[\"Location\", \"TimeFrame\", \"Data\"]]\n",
    "subsidies_df.columns = [\"county\", \"year\", \"childcare_subsidies\"]\n",
    "subsidies_df[\"county\"] = subsidies_df[\"county\"].str.replace(\" County\", \"\", regex=False)\n",
    "subsidies_df[\"childcare_subsidies\"] = pd.to_numeric(subsidies_df[\"childcare_subsidies\"], errors=\"coerce\")\n",
    "\n",
    "# Filter to latest year\n",
    "latest_year = subsidies_df[\"year\"].max()\n",
    "subsidies_latest = subsidies_df[subsidies_df[\"year\"] == latest_year].copy()\n",
    "\n",
    "# Merge CHR data with latest subsidies\n",
    "merged_df = df_chr_ky.merge(subsidies_latest, on=\"county\", how=\"left\")\n",
    "\n",
    "print(f\"Latest subsidies year: {latest_year}\")\n",
    "print(f\"Merged dataset shape: {merged_df.shape}\")\n",
    "merged_df.head()\n"
   ]
  },
  {
   "cell_type": "code",
   "execution_count": 88,
   "id": "9e58c299",
   "metadata": {},
   "outputs": [
    {
     "ename": "KeyError",
     "evalue": "'county'",
     "output_type": "error",
     "traceback": [
      "\u001b[31m---------------------------------------------------------------------------\u001b[39m",
      "\u001b[31mKeyError\u001b[39m                                  Traceback (most recent call last)",
      "\u001b[32m~\\AppData\\Local\\Temp\\ipykernel_52996\\1859077067.py\u001b[39m in \u001b[36m?\u001b[39m\u001b[34m()\u001b[39m\n\u001b[32m      3\u001b[39m subsidies_latest = subsidies_df[subsidies_df[\u001b[33m\"year\"\u001b[39m] == latest_year].copy()\n\u001b[32m      4\u001b[39m \n\u001b[32m      5\u001b[39m \n\u001b[32m      6\u001b[39m \u001b[38;5;66;03m# Merge CHR data (ky_df) with latest subsidies data\u001b[39;00m\n\u001b[32m----> \u001b[39m\u001b[32m7\u001b[39m merged_df = ky_df.merge(subsidies_latest, on=\u001b[33m\"county\"\u001b[39m, how=\u001b[33m\"left\"\u001b[39m)\n\u001b[32m      8\u001b[39m \n\u001b[32m      9\u001b[39m \u001b[38;5;66;03m# Preview merged data\u001b[39;00m\n\u001b[32m     10\u001b[39m print(f\"Latest subsidies year: {latest_year}\")\n",
      "\u001b[32mc:\\Users\\Kriwe\\OneDrive\\Documents\\CodeKY Projects\\CodeYou 2DA\\CodeYou DA Capstone\\KY-Kindergarten-Readiness\\venv\\Lib\\site-packages\\pandas\\core\\frame.py\u001b[39m in \u001b[36m?\u001b[39m\u001b[34m(self, right, how, on, left_on, right_on, left_index, right_index, sort, suffixes, copy, indicator, validate)\u001b[39m\n\u001b[32m  10835\u001b[39m         validate: MergeValidate | \u001b[38;5;28;01mNone\u001b[39;00m = \u001b[38;5;28;01mNone\u001b[39;00m,\n\u001b[32m  10836\u001b[39m     ) -> DataFrame:\n\u001b[32m  10837\u001b[39m         \u001b[38;5;28;01mfrom\u001b[39;00m pandas.core.reshape.merge \u001b[38;5;28;01mimport\u001b[39;00m merge\n\u001b[32m  10838\u001b[39m \n\u001b[32m> \u001b[39m\u001b[32m10839\u001b[39m         return merge(\n\u001b[32m  10840\u001b[39m             self,\n\u001b[32m  10841\u001b[39m             right,\n\u001b[32m  10842\u001b[39m             how=how,\n",
      "\u001b[32mc:\\Users\\Kriwe\\OneDrive\\Documents\\CodeKY Projects\\CodeYou 2DA\\CodeYou DA Capstone\\KY-Kindergarten-Readiness\\venv\\Lib\\site-packages\\pandas\\core\\reshape\\merge.py\u001b[39m in \u001b[36m?\u001b[39m\u001b[34m(left, right, how, on, left_on, right_on, left_index, right_index, sort, suffixes, copy, indicator, validate)\u001b[39m\n\u001b[32m    166\u001b[39m             validate=validate,\n\u001b[32m    167\u001b[39m             copy=copy,\n\u001b[32m    168\u001b[39m         )\n\u001b[32m    169\u001b[39m     \u001b[38;5;28;01melse\u001b[39;00m:\n\u001b[32m--> \u001b[39m\u001b[32m170\u001b[39m         op = _MergeOperation(\n\u001b[32m    171\u001b[39m             left_df,\n\u001b[32m    172\u001b[39m             right_df,\n\u001b[32m    173\u001b[39m             how=how,\n",
      "\u001b[32mc:\\Users\\Kriwe\\OneDrive\\Documents\\CodeKY Projects\\CodeYou 2DA\\CodeYou DA Capstone\\KY-Kindergarten-Readiness\\venv\\Lib\\site-packages\\pandas\\core\\reshape\\merge.py\u001b[39m in \u001b[36m?\u001b[39m\u001b[34m(self, left, right, how, on, left_on, right_on, left_index, right_index, sort, suffixes, indicator, validate)\u001b[39m\n\u001b[32m    790\u001b[39m             self.right_join_keys,\n\u001b[32m    791\u001b[39m             self.join_names,\n\u001b[32m    792\u001b[39m             left_drop,\n\u001b[32m    793\u001b[39m             right_drop,\n\u001b[32m--> \u001b[39m\u001b[32m794\u001b[39m         ) = self._get_merge_keys()\n\u001b[32m    795\u001b[39m \n\u001b[32m    796\u001b[39m         \u001b[38;5;28;01mif\u001b[39;00m left_drop:\n\u001b[32m    797\u001b[39m             self.left = self.left._drop_labels_or_levels(left_drop)\n",
      "\u001b[32mc:\\Users\\Kriwe\\OneDrive\\Documents\\CodeKY Projects\\CodeYou 2DA\\CodeYou DA Capstone\\KY-Kindergarten-Readiness\\venv\\Lib\\site-packages\\pandas\\core\\reshape\\merge.py\u001b[39m in \u001b[36m?\u001b[39m\u001b[34m(self)\u001b[39m\n\u001b[32m   1306\u001b[39m                     \u001b[38;5;28;01mif\u001b[39;00m lk \u001b[38;5;28;01mis\u001b[39;00m \u001b[38;5;28;01mnot\u001b[39;00m \u001b[38;5;28;01mNone\u001b[39;00m:\n\u001b[32m   1307\u001b[39m                         \u001b[38;5;66;03m# Then we're either Hashable or a wrong-length arraylike,\u001b[39;00m\n\u001b[32m   1308\u001b[39m                         \u001b[38;5;66;03m#  the latter of which will raise\u001b[39;00m\n\u001b[32m   1309\u001b[39m                         lk = cast(Hashable, lk)\n\u001b[32m-> \u001b[39m\u001b[32m1310\u001b[39m                         left_keys.append(left._get_label_or_level_values(lk))\n\u001b[32m   1311\u001b[39m                         join_names.append(lk)\n\u001b[32m   1312\u001b[39m                     \u001b[38;5;28;01melse\u001b[39;00m:\n\u001b[32m   1313\u001b[39m                         \u001b[38;5;66;03m# work-around for merge_asof(left_index=True)\u001b[39;00m\n",
      "\u001b[32mc:\\Users\\Kriwe\\OneDrive\\Documents\\CodeKY Projects\\CodeYou 2DA\\CodeYou DA Capstone\\KY-Kindergarten-Readiness\\venv\\Lib\\site-packages\\pandas\\core\\generic.py\u001b[39m in \u001b[36m?\u001b[39m\u001b[34m(self, key, axis)\u001b[39m\n\u001b[32m   1907\u001b[39m             values = self.xs(key, axis=other_axes[\u001b[32m0\u001b[39m])._values\n\u001b[32m   1908\u001b[39m         \u001b[38;5;28;01melif\u001b[39;00m self._is_level_reference(key, axis=axis):\n\u001b[32m   1909\u001b[39m             values = self.axes[axis].get_level_values(key)._values\n\u001b[32m   1910\u001b[39m         \u001b[38;5;28;01melse\u001b[39;00m:\n\u001b[32m-> \u001b[39m\u001b[32m1911\u001b[39m             \u001b[38;5;28;01mraise\u001b[39;00m KeyError(key)\n\u001b[32m   1912\u001b[39m \n\u001b[32m   1913\u001b[39m         \u001b[38;5;66;03m# Check for duplicates\u001b[39;00m\n\u001b[32m   1914\u001b[39m         \u001b[38;5;28;01mif\u001b[39;00m values.ndim > \u001b[32m1\u001b[39m:\n",
      "\u001b[31mKeyError\u001b[39m: 'county'"
     ]
    }
   ],
   "source": [
    "# Filter to the latest year\n",
    "latest_year = subsidies_df[\"year\"].max()\n",
    "subsidies_latest = subsidies_df[subsidies_df[\"year\"] == latest_year].copy()\n",
    "\n",
    "\n",
    "# Merge CHR data (ky_df) with latest subsidies data\n",
    "merged_df = ky_df.merge(subsidies_latest, on=\"county\", how=\"left\")\n",
    "\n",
    "# Preview merged data\n",
    "print(f\"Latest subsidies year: {latest_year}\")\n",
    "print(f\"Merged dataset shape: {merged_df.shape}\")\n",
    "merged_df.head()\n"
   ]
  },
  {
   "cell_type": "code",
   "execution_count": null,
   "id": "1b2b6421",
   "metadata": {},
   "outputs": [
    {
     "name": "stdout",
     "output_type": "stream",
     "text": [
      "Index(['LocationType', 'Location', 'TimeFrame', 'DataFormat', 'Data'], dtype='object')\n",
      "  LocationType  Location  TimeFrame DataFormat  Data\n",
      "0        State  Kentucky       2013       Rate  86.1\n",
      "1        State  Kentucky       2014       Rate  87.5\n",
      "2        State  Kentucky       2015       Rate    88\n",
      "3        State  Kentucky       2016       Rate  88.6\n",
      "4        State  Kentucky       2017       Rate  89.8\n",
      "Latest graduation year: 2024\n",
      "(177, 3)\n"
     ]
    },
    {
     "data": {
      "text/html": [
       "<div>\n",
       "<style scoped>\n",
       "    .dataframe tbody tr th:only-of-type {\n",
       "        vertical-align: middle;\n",
       "    }\n",
       "\n",
       "    .dataframe tbody tr th {\n",
       "        vertical-align: top;\n",
       "    }\n",
       "\n",
       "    .dataframe thead th {\n",
       "        text-align: right;\n",
       "    }\n",
       "</style>\n",
       "<table border=\"1\" class=\"dataframe\">\n",
       "  <thead>\n",
       "    <tr style=\"text-align: right;\">\n",
       "      <th></th>\n",
       "      <th>county</th>\n",
       "      <th>year</th>\n",
       "      <th>grad_rate</th>\n",
       "    </tr>\n",
       "  </thead>\n",
       "  <tbody>\n",
       "    <tr>\n",
       "      <th>11</th>\n",
       "      <td>Kentucky</td>\n",
       "      <td>2024</td>\n",
       "      <td>92.2</td>\n",
       "    </tr>\n",
       "    <tr>\n",
       "      <th>23</th>\n",
       "      <td>Adair Co.</td>\n",
       "      <td>2024</td>\n",
       "      <td>94.9</td>\n",
       "    </tr>\n",
       "    <tr>\n",
       "      <th>35</th>\n",
       "      <td>Allen Co.</td>\n",
       "      <td>2024</td>\n",
       "      <td>94.0</td>\n",
       "    </tr>\n",
       "    <tr>\n",
       "      <th>47</th>\n",
       "      <td>Anchorage Ind.</td>\n",
       "      <td>2024</td>\n",
       "      <td>NaN</td>\n",
       "    </tr>\n",
       "    <tr>\n",
       "      <th>59</th>\n",
       "      <td>Anderson Co.</td>\n",
       "      <td>2024</td>\n",
       "      <td>93.0</td>\n",
       "    </tr>\n",
       "  </tbody>\n",
       "</table>\n",
       "</div>"
      ],
      "text/plain": [
       "            county  year  grad_rate\n",
       "11        Kentucky  2024       92.2\n",
       "23       Adair Co.  2024       94.9\n",
       "35       Allen Co.  2024       94.0\n",
       "47  Anchorage Ind.  2024        NaN\n",
       "59    Anderson Co.  2024       93.0"
      ]
     },
     "execution_count": 42,
     "metadata": {},
     "output_type": "execute_result"
    }
   ],
   "source": [
    "# Load graduation rates dataset\n",
    "grad_df = pd.read_csv(\"../data/Cohort graduation rate.csv\")\n",
    "\n",
    "# Preview columns\n",
    "print(grad_df.columns)\n",
    "print(grad_df.head())\n",
    "\n",
    "# Keep only needed columns (adjust names if different)\n",
    "# Example assumes columns like: 'Location', 'TimeFrame', 'Data'\n",
    "grad_df = grad_df[[\"Location\", \"TimeFrame\", \"Data\"]]\n",
    "\n",
    "# Rename for clarity\n",
    "grad_df.columns = [\"county\", \"year\", \"grad_rate\"]\n",
    "\n",
    "# Clean county names to match other datasets\n",
    "grad_df[\"county\"] = grad_df[\"county\"].str.replace(\" County\", \"\", regex=False)\n",
    "\n",
    "# Ensure numeric type for graduation rate\n",
    "grad_df[\"grad_rate\"] = pd.to_numeric(grad_df[\"grad_rate\"], errors=\"coerce\")\n",
    "\n",
    "# Filter to the most recent year\n",
    "latest_grad_year = grad_df[\"year\"].max()\n",
    "grad_latest = grad_df[grad_df[\"year\"] == latest_grad_year]\n",
    "\n",
    "# Preview cleaned and filtered graduation data\n",
    "print(f\"Latest graduation year: {latest_grad_year}\")\n",
    "print(grad_latest.shape)\n",
    "grad_latest.head()\n"
   ]
  }
 ],
 "metadata": {
  "kernelspec": {
   "display_name": "Python 3 (ipykernel)",
   "language": "python",
   "name": "python3"
  },
  "language_info": {
   "codemirror_mode": {
    "name": "ipython",
    "version": 3
   },
   "file_extension": ".py",
   "mimetype": "text/x-python",
   "name": "python",
   "nbconvert_exporter": "python",
   "pygments_lexer": "ipython3",
   "version": "3.12.5"
  }
 },
 "nbformat": 4,
 "nbformat_minor": 5
}
